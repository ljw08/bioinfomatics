{
  "nbformat": 4,
  "nbformat_minor": 0,
  "metadata": {
    "colab": {
      "provenance": [],
      "authorship_tag": "ABX9TyPZJQU6ji3/t5sfGHEFWY8e",
      "include_colab_link": true
    },
    "kernelspec": {
      "name": "python3",
      "display_name": "Python 3"
    },
    "language_info": {
      "name": "python"
    }
  },
  "cells": [
    {
      "cell_type": "markdown",
      "metadata": {
        "id": "view-in-github",
        "colab_type": "text"
      },
      "source": [
        "<a href=\"https://colab.research.google.com/github/ljw08/bioinfomatics/blob/main/02_%ED%8C%8C%EC%9D%B4%EC%8D%AC_2%EC%9D%BC%EC%B0%A8_%EC%8B%A4%EC%8A%B5.ipynb\" target=\"_parent\"><img src=\"https://colab.research.google.com/assets/colab-badge.svg\" alt=\"Open In Colab\"/></a>"
      ]
    },
    {
      "cell_type": "code",
      "execution_count": null,
      "metadata": {
        "colab": {
          "base_uri": "https://localhost:8080/",
          "height": 54
        },
        "id": "AZ884ujnx2Og",
        "outputId": "efd688dd-8866-434c-be31-72ab41d87b70"
      },
      "outputs": [
        {
          "output_type": "stream",
          "name": "stdout",
          "text": [
            "I eat 3 apples\n"
          ]
        },
        {
          "output_type": "execute_result",
          "data": {
            "text/plain": [
              "'{and}'"
            ],
            "application/vnd.google.colaboratory.intrinsic+json": {
              "type": "string"
            }
          },
          "metadata": {},
          "execution_count": 2
        }
      ],
      "source": [
        "print(\"I eat {0} apples\".format(3))\n",
        "\n",
        "print(\"I eat {} apples\".format(\"five\"))\n",
        "\n",
        "number=5\n",
        "print(\"I eat {} apples\".format(number))\n",
        "\n",
        "print(\"I ate {} apples. So, I'm {}\".format(10,\"full\"))\n",
        "\n",
        "print(\"I ate {} apples. so I'm {word}\".format(5,word=\"full\"))\n",
        "\n",
        "print(\"{0:<10}\".format(\"파이썬\"))\n",
        "\n",
        "print(\"{0:>10}\".format(\"파이썬\"))\n",
        "\n",
        "print(\"{0:^10}\".format(\"파이썬\"))\n",
        "\n",
        "print(\"{0:*^10}\".format(\"파이썬\"))\n",
        "\n",
        "\"{0:0.4f}\".format(3.4213423)\n",
        "\n",
        "\"{0:10.4f}\".format(3.4213423)\n",
        "\n",
        "\"{{and}}\".format()"
      ]
    },
    {
      "cell_type": "markdown",
      "source": [
        "### 파이썬 자료형과 연산자\n",
        "\n",
        "2. 문자열 인덱싱 & 슬라이싱"
      ],
      "metadata": {
        "id": "Rx_vESXS0YM9"
      }
    },
    {
      "cell_type": "code",
      "source": [
        "str(list(range(1, 10001, 1))).count('7')"
      ],
      "metadata": {
        "colab": {
          "base_uri": "https://localhost:8080/"
        },
        "id": "EiHJW_P40XFn",
        "outputId": "d62ff97d-a64d-4788-c0c5-d445aa126d37"
      },
      "execution_count": null,
      "outputs": [
        {
          "output_type": "execute_result",
          "data": {
            "text/plain": [
              "4000"
            ]
          },
          "metadata": {},
          "execution_count": 7
        }
      ]
    },
    {
      "cell_type": "code",
      "source": [
        "a=\"hobby\"\n",
        "a.count(\"b\")"
      ],
      "metadata": {
        "colab": {
          "base_uri": "https://localhost:8080/"
        },
        "id": "T60syukd3Xrb",
        "outputId": "5c1fb132-d48f-4085-c748-68e94ceab8ea"
      },
      "execution_count": null,
      "outputs": [
        {
          "output_type": "execute_result",
          "data": {
            "text/plain": [
              "2"
            ]
          },
          "metadata": {},
          "execution_count": 20
        }
      ]
    },
    {
      "cell_type": "code",
      "source": [
        "a=\"Python is best choice\"\n",
        "a.find('b')\n",
        "a.find('is')\n",
        "a.find('k')"
      ],
      "metadata": {
        "colab": {
          "base_uri": "https://localhost:8080/"
        },
        "id": "p4tqjT5V3f3M",
        "outputId": "e906af79-3e31-4dab-e35e-4b8aed351ead"
      },
      "execution_count": null,
      "outputs": [
        {
          "output_type": "execute_result",
          "data": {
            "text/plain": [
              "-1"
            ]
          },
          "metadata": {},
          "execution_count": 22
        }
      ]
    },
    {
      "cell_type": "code",
      "source": [
        "a=\"Python is best choice\"\n",
        "a.index('b')\n",
        "a.index('is')\n",
        "a.index('k')"
      ],
      "metadata": {
        "colab": {
          "base_uri": "https://localhost:8080/",
          "height": 223
        },
        "id": "Y0ZITzgm4zEu",
        "outputId": "1ea97dd8-631d-4bdd-8c87-08a114676e3c"
      },
      "execution_count": null,
      "outputs": [
        {
          "output_type": "error",
          "ename": "ValueError",
          "evalue": "ignored",
          "traceback": [
            "\u001b[0;31m---------------------------------------------------------------------------\u001b[0m",
            "\u001b[0;31mValueError\u001b[0m                                Traceback (most recent call last)",
            "\u001b[0;32m<ipython-input-23-1df921e900a9>\u001b[0m in \u001b[0;36m<cell line: 4>\u001b[0;34m()\u001b[0m\n\u001b[1;32m      2\u001b[0m \u001b[0ma\u001b[0m\u001b[0;34m.\u001b[0m\u001b[0mindex\u001b[0m\u001b[0;34m(\u001b[0m\u001b[0;34m'b'\u001b[0m\u001b[0;34m)\u001b[0m\u001b[0;34m\u001b[0m\u001b[0;34m\u001b[0m\u001b[0m\n\u001b[1;32m      3\u001b[0m \u001b[0ma\u001b[0m\u001b[0;34m.\u001b[0m\u001b[0mindex\u001b[0m\u001b[0;34m(\u001b[0m\u001b[0;34m'is'\u001b[0m\u001b[0;34m)\u001b[0m\u001b[0;34m\u001b[0m\u001b[0;34m\u001b[0m\u001b[0m\n\u001b[0;32m----> 4\u001b[0;31m \u001b[0ma\u001b[0m\u001b[0;34m.\u001b[0m\u001b[0mindex\u001b[0m\u001b[0;34m(\u001b[0m\u001b[0;34m'k'\u001b[0m\u001b[0;34m)\u001b[0m\u001b[0;34m\u001b[0m\u001b[0;34m\u001b[0m\u001b[0m\n\u001b[0m",
            "\u001b[0;31mValueError\u001b[0m: substring not found"
          ]
        }
      ]
    },
    {
      "cell_type": "code",
      "source": [
        "a=\",\"\n",
        "a.join('abcd')"
      ],
      "metadata": {
        "colab": {
          "base_uri": "https://localhost:8080/",
          "height": 36
        },
        "id": "dxLqXBwc3vcE",
        "outputId": "761b847b-54d1-4106-b871-58e099377135"
      },
      "execution_count": null,
      "outputs": [
        {
          "output_type": "execute_result",
          "data": {
            "text/plain": [
              "'a,b,c,d'"
            ],
            "application/vnd.google.colaboratory.intrinsic+json": {
              "type": "string"
            }
          },
          "metadata": {},
          "execution_count": 19
        }
      ]
    },
    {
      "cell_type": "code",
      "source": [
        "a='python'\n",
        "a.upper()"
      ],
      "metadata": {
        "colab": {
          "base_uri": "https://localhost:8080/",
          "height": 36
        },
        "id": "elOQVZKQ33cD",
        "outputId": "761ce95f-14c0-4060-9b8e-a4bb0b4c7f87"
      },
      "execution_count": null,
      "outputs": [
        {
          "output_type": "execute_result",
          "data": {
            "text/plain": [
              "'PYTHON'"
            ],
            "application/vnd.google.colaboratory.intrinsic+json": {
              "type": "string"
            }
          },
          "metadata": {},
          "execution_count": 11
        }
      ]
    },
    {
      "cell_type": "code",
      "source": [
        "a=\" 파이썬 \"\n",
        "a.strip()"
      ],
      "metadata": {
        "colab": {
          "base_uri": "https://localhost:8080/",
          "height": 36
        },
        "id": "3LwQOaKY37v-",
        "outputId": "4c57234e-0431-4b40-c9b5-818082974d14"
      },
      "execution_count": null,
      "outputs": [
        {
          "output_type": "execute_result",
          "data": {
            "text/plain": [
              "'파이썬'"
            ],
            "application/vnd.google.colaboratory.intrinsic+json": {
              "type": "string"
            }
          },
          "metadata": {},
          "execution_count": 9
        }
      ]
    },
    {
      "cell_type": "code",
      "source": [
        "a=\"Life is too short\"\n",
        "a.replace(\"Life\",\"Your leg\")"
      ],
      "metadata": {
        "colab": {
          "base_uri": "https://localhost:8080/",
          "height": 36
        },
        "id": "r0jdsnSX4JRO",
        "outputId": "44a7c1d1-ea99-4f91-85d0-3246ac60fdcf"
      },
      "execution_count": null,
      "outputs": [
        {
          "output_type": "execute_result",
          "data": {
            "text/plain": [
              "'Your leg is too short'"
            ],
            "application/vnd.google.colaboratory.intrinsic+json": {
              "type": "string"
            }
          },
          "metadata": {},
          "execution_count": 13
        }
      ]
    },
    {
      "cell_type": "code",
      "source": [
        "a=\"Life is too short\"\n",
        "a.split()"
      ],
      "metadata": {
        "colab": {
          "base_uri": "https://localhost:8080/"
        },
        "id": "Kl5-vMqz4Wys",
        "outputId": "d24226c7-784e-4783-bec3-510564f3eb66"
      },
      "execution_count": null,
      "outputs": [
        {
          "output_type": "execute_result",
          "data": {
            "text/plain": [
              "['Life', 'is', 'too', 'short']"
            ]
          },
          "metadata": {},
          "execution_count": 14
        }
      ]
    },
    {
      "cell_type": "code",
      "source": [
        "a=\"a, b, c, d\"\n",
        "a.split(\".\")"
      ],
      "metadata": {
        "colab": {
          "base_uri": "https://localhost:8080/"
        },
        "id": "2_ORrYPd4buC",
        "outputId": "b6b1a6fb-31b7-4470-8d5d-8a9b20fe4c4b"
      },
      "execution_count": null,
      "outputs": [
        {
          "output_type": "execute_result",
          "data": {
            "text/plain": [
              "['a, b, c, d']"
            ]
          },
          "metadata": {},
          "execution_count": 18
        }
      ]
    },
    {
      "cell_type": "code",
      "source": [
        "s=input(\"문자열을 입력하세요: \")\n",
        "\n",
        "print(s[::-1])"
      ],
      "metadata": {
        "colab": {
          "base_uri": "https://localhost:8080/"
        },
        "id": "U3l4LjE59keU",
        "outputId": "c0fff02d-07c7-4ef5-ad5b-e95c6412d267"
      },
      "execution_count": null,
      "outputs": [
        {
          "output_type": "stream",
          "name": "stdout",
          "text": [
            "문자열을 입력하세요: 사랑해요 파이썬!\n",
            "!썬이파 요해랑사\n"
          ]
        }
      ]
    },
    {
      "cell_type": "code",
      "source": [
        "a=input(\"파일을 입력하세요: \")\n",
        "\n",
        "print(f\"파일명: {a.split('.')[0]}, 확장자: {a.split('.')[1]}\")"
      ],
      "metadata": {
        "colab": {
          "base_uri": "https://localhost:8080/"
        },
        "id": "HpgaqfMg_yBz",
        "outputId": "f593e2bc-d8b5-4f3c-fcaa-4e3ad9998262"
      },
      "execution_count": null,
      "outputs": [
        {
          "output_type": "stream",
          "name": "stdout",
          "text": [
            "파일을 입력하세요: test.py\n",
            "파일명: test, 확장자: py\n"
          ]
        }
      ]
    },
    {
      "cell_type": "markdown",
      "source": [
        "### 날짜와 시간관련 모듈: datetime"
      ],
      "metadata": {
        "id": "dOcugzszDkLh"
      }
    },
    {
      "cell_type": "code",
      "source": [
        "import sys\n",
        "sys.path"
      ],
      "metadata": {
        "colab": {
          "base_uri": "https://localhost:8080/"
        },
        "id": "qjR-qKU4D2To",
        "outputId": "95d83772-f2da-4323-9ab2-7d46ca54e109"
      },
      "execution_count": null,
      "outputs": [
        {
          "output_type": "execute_result",
          "data": {
            "text/plain": [
              "['/content',\n",
              " '/env/python',\n",
              " '/usr/lib/python310.zip',\n",
              " '/usr/lib/python3.10',\n",
              " '/usr/lib/python3.10/lib-dynload',\n",
              " '',\n",
              " '/usr/local/lib/python3.10/dist-packages',\n",
              " '/usr/lib/python3/dist-packages',\n",
              " '/usr/local/lib/python3.10/dist-packages/IPython/extensions',\n",
              " '/root/.ipython']"
            ]
          },
          "metadata": {},
          "execution_count": 38
        }
      ]
    },
    {
      "cell_type": "code",
      "source": [
        "import datetime\n",
        "\n",
        "a=str(datetime.datetime.now())\n",
        "\n",
        "date=a.split(\"-\")\n",
        "time=a.split(\":\")\n",
        "\n",
        "print(f\"지금 시각은 {date[0]}년 {date[1]}월 {date[2][:2]}일 {time[0][-2]+time[0][-1]}시 {time[1][:2]}분 {time[2][:2]}초 입니다.\")"
      ],
      "metadata": {
        "colab": {
          "base_uri": "https://localhost:8080/"
        },
        "id": "wdfNhqhtDRR8",
        "outputId": "0a0a2032-b058-4009-9fb8-745d20fab201"
      },
      "execution_count": null,
      "outputs": [
        {
          "output_type": "stream",
          "name": "stdout",
          "text": [
            "지금 시각은 2023년 08월 08일 03시 24분 19초 입니다.\n"
          ]
        }
      ]
    },
    {
      "cell_type": "code",
      "source": [
        "print(str(datetime.datetime.now()))\n",
        "print(a.split(\":\"))\n",
        "print(a.split(\"-\"))"
      ],
      "metadata": {
        "colab": {
          "base_uri": "https://localhost:8080/"
        },
        "id": "zHSjt_DHGvbj",
        "outputId": "2932ec94-bfc9-4da0-b269-5ff5e42d732f"
      },
      "execution_count": null,
      "outputs": [
        {
          "output_type": "stream",
          "name": "stdout",
          "text": [
            "2023-08-08 03:16:53.065934\n",
            "['2023-08-08 03', '15', '27.179512']\n",
            "['2023', '08', '08 03:15:27.179512']\n"
          ]
        }
      ]
    },
    {
      "cell_type": "markdown",
      "source": [
        "### 정보 가져오기"
      ],
      "metadata": {
        "id": "KwVsA7tlLFBp"
      }
    },
    {
      "cell_type": "code",
      "source": [
        "import urllib.request\n",
        "import ssl\n",
        "\n",
        "ctx = ssl._create_unverified_context()\n",
        "\n",
        "#환율정보 페이지 불러오기\n",
        "print(\"[환율정보 불러오기]\")\n",
        "URL = \"https://search.naver.com/search.naver?where=nexearch&sm=top_hty&fbm=1&ie=utf8&query=%ED%99%98%EC%9C%A8\"\n",
        "page = urllib.request.urlopen(URL, context=ctx)\n",
        "text = page.read().decode(\"utf8\")  # 해당 페이지의 소스코드\n",
        "# print(text)\n",
        "\n",
        "#환율정보 가져오기: 기준시간\n",
        "searchText = 'class=\"grp_info\"> <em>'\n",
        "where      = text.find(searchText)  #소스코드에서 해당 문자열의 시작위치\n",
        "print(f'위치: {where}')\n",
        "print(f'searchText 길이: {len(searchText)}')\n",
        "start=where+len(searchText)\n",
        "end=where+len(searchText)+16\n",
        "targetInfo = text[where+len(searchText):where+len(searchText)+16]\n",
        "print(f'-환율기준시간: {targetInfo}')\n",
        "\n",
        "#환율정보 가져오기: 달러\n",
        "searchText = '<span>미국 <em>USD</em></span></a></th> <td><span>'\n",
        "where      = text.find(searchText)\n",
        "targetInfo = text[where+len(searchText):where+len(searchText)+8]\n",
        "print(f'-달러: {targetInfo}')"
      ],
      "metadata": {
        "colab": {
          "base_uri": "https://localhost:8080/"
        },
        "id": "KyKJyyT0K_El",
        "outputId": "f5cddda2-5b40-4482-d080-dd645aa95a34"
      },
      "execution_count": null,
      "outputs": [
        {
          "output_type": "stream",
          "name": "stdout",
          "text": [
            "[환율정보 불러오기]\n",
            "위치: 74031\n",
            "searchText 길이: 22\n",
            "-환율기준시간: 2023.08.08 12:33\n",
            "-달러: 1,313.80\n"
          ]
        }
      ]
    },
    {
      "cell_type": "code",
      "source": [
        "import urllib.request\n",
        "import ssl\n",
        "\n",
        "ctx = ssl._create_unverified_context()\n",
        "\n",
        "#환율정보 페이지 불러오기\n",
        "print(\"[환율정보 불러오기]\")\n",
        "URL = \"https://search.naver.com/search.naver?where=nexearch&sm=top_hty&fbm=1&ie=utf8&query=%ED%99%98%EC%9C%A8\"\n",
        "page = urllib.request.urlopen(URL, context=ctx)\n",
        "text = page.read().decode(\"utf8\")  # 해당 페이지의 소스코드\n",
        "# print(text)\n",
        "\n",
        "#환율정보 가져오기: 기준시간\n",
        "searchText = 'class=\"grp_info\"> <em>'\n",
        "where      = text.find(searchText)  #소스코드에서 해당 문자열의 시작위치\n",
        "targetInfo = text[where+len(searchText):where+len(searchText)+16]\n",
        "print(f'-환율기준시간: {targetInfo}')\n",
        "\n",
        "#환율정보 가져오기: 유로화, 위안화\n",
        "searchText = '<span>유럽연합 <em>EUR</em></span></a></th> <td><span>'\n",
        "where      = text.find(searchText)\n",
        "targetInfo = text[where+len(searchText):where+len(searchText)+8]\n",
        "print(f'-유로화: {targetInfo}')\n",
        "\n",
        "searchText = '<span>중국 <em>CNY</em></span></a></th> <td><span>'\n",
        "where      = text.find(searchText)\n",
        "targetInfo = text[where+len(searchText):where+len(searchText)+6]\n",
        "print(f'-위안화: {targetInfo}')"
      ],
      "metadata": {
        "colab": {
          "base_uri": "https://localhost:8080/"
        },
        "id": "3JKVBieTOvI2",
        "outputId": "cc1ce1fb-7d7c-4f85-a21d-60481b895866"
      },
      "execution_count": null,
      "outputs": [
        {
          "output_type": "stream",
          "name": "stdout",
          "text": [
            "[환율정보 불러오기]\n",
            "-환율기준시간: 2023.08.08 12:43\n",
            "-유로화: 1,443.98\n",
            "-위안화: 182.01\n"
          ]
        }
      ]
    },
    {
      "cell_type": "code",
      "source": [
        "price = int(input(\"동전으로 교환할 금액을 입력하세요: \"))\n",
        "\n",
        "print(f\"500원짜리 ==> {price//500}개\")\n",
        "price %= 500\n",
        "print(f\"100원짜리 ==> {price//100}개\")\n",
        "price %= 100\n",
        "print(f\"50원짜리 ==> {price//50}개\")\n",
        "price %= 50\n",
        "print(f\"10원짜리 ==> {price//10}개\")\n",
        "price %= 10\n",
        "print(f\"잔돈 ==> {price}개\")"
      ],
      "metadata": {
        "colab": {
          "base_uri": "https://localhost:8080/"
        },
        "id": "WqIQIdtpkSDD",
        "outputId": "60bea7e6-57b6-430d-e1ef-888e66769c1d"
      },
      "execution_count": null,
      "outputs": [
        {
          "output_type": "stream",
          "name": "stdout",
          "text": [
            "동전으로 교환할 금액을 입력하세요: 2345\n",
            "500원짜리 ==> 4개\n",
            "100원짜리 ==> 3개\n",
            "50원짜리 ==> 0개\n",
            "10원짜리 ==> 4개\n",
            "잔돈 ==> 5개\n"
          ]
        }
      ]
    },
    {
      "cell_type": "code",
      "source": [
        "price = int(input(\"교환할 돈은 얼마?\"))\n",
        "\n",
        "print(\"-\"*50)\n",
        "print(f\"지폐: 50000원 {price//50000}장\")\n",
        "price %= 50000\n",
        "print(f\"10000원 {price//10000}장\")\n",
        "price %= 10000\n",
        "print(f\"5000원 {price//5000}장\")\n",
        "price %= 5000\n",
        "print(f\"1000원 {price//1000}\")\n",
        "\n",
        "price %= 1000\n",
        "print(f\"동전: 500원 {price//500}개\")\n",
        "price %= 500\n",
        "print(f\"100원 {price//100}개\")\n",
        "price %= 100\n",
        "print(f\"50원 {price//50}개\")\n",
        "price %= 50\n",
        "print(f\"10원 {price//10}개\")\n",
        "price %= 10\n",
        "print(f\"잔돈 {price}원\")"
      ],
      "metadata": {
        "colab": {
          "base_uri": "https://localhost:8080/"
        },
        "id": "S_DbE-dlpHiE",
        "outputId": "eaae8650-0e65-4e71-965e-c8aee2c40446"
      },
      "execution_count": null,
      "outputs": [
        {
          "output_type": "stream",
          "name": "stdout",
          "text": [
            "교환할 돈은 얼마?345667\n",
            "--------------------------------------------------\n",
            "지폐: 50000원 6장\n",
            "10000원 4장\n",
            "5000원 1장\n",
            "1000원 0\n",
            "동전: 500원 1개\n",
            "100원 1개\n",
            "50원 1개\n",
            "10원 1개\n",
            "잔돈 7원\n"
          ]
        }
      ]
    },
    {
      "cell_type": "markdown",
      "source": [
        "### if 조건문"
      ],
      "metadata": {
        "id": "UC2ZFe1BtUnc"
      }
    },
    {
      "cell_type": "code",
      "source": [
        "# if 조건문\n",
        "\n",
        "a=500\n",
        "if a<1000:\n",
        "  print(f\"{a}는 1000보다 작군요!\")\n",
        "else:\n",
        "  print(f\"{a}는 1000보다 크거나 같군요!\")"
      ],
      "metadata": {
        "colab": {
          "base_uri": "https://localhost:8080/"
        },
        "id": "z6dq9cnytZUH",
        "outputId": "02a0b9f8-cfb8-4013-ff1d-22aec7c1863e"
      },
      "execution_count": null,
      "outputs": [
        {
          "output_type": "stream",
          "name": "stdout",
          "text": [
            "500는 1000보다 작군요!\n"
          ]
        }
      ]
    },
    {
      "cell_type": "code",
      "source": [
        "# 중첩 if~문\n",
        "\n",
        "온도 = float(input(\"온도를 입력해주세요:\"))\n",
        "\n",
        "if 온도>30:\n",
        "  if 온도>35:\n",
        "    print(\"무척 덥군요\")\n",
        "  else:\n",
        "    print(\"덥군요!\")\n",
        "\n",
        "else:\n",
        "  if 10<온도<=30:\n",
        "    print(\"쾌적한 온도입니다!\")\n",
        "  else:\n",
        "    print(\"춥군요!\")"
      ],
      "metadata": {
        "colab": {
          "base_uri": "https://localhost:8080/"
        },
        "id": "9X0QUqsVuHmm",
        "outputId": "8da8a215-5ad3-4196-f353-5b991a7f66e8"
      },
      "execution_count": null,
      "outputs": [
        {
          "output_type": "stream",
          "name": "stdout",
          "text": [
            "온도를 입력해주세요:3\n",
            "춥군요!\n"
          ]
        }
      ]
    },
    {
      "cell_type": "code",
      "source": [
        "a=int(input(\"숫자를 입력해 주세요: \"))\n",
        "\n",
        "if a%2 == 0:\n",
        "  print(f\"입력된 수 : {a} ==> 짝수\")\n",
        "else:\n",
        "  print(f\"입력된 수 : {a} ==> 홀수\")"
      ],
      "metadata": {
        "colab": {
          "base_uri": "https://localhost:8080/"
        },
        "id": "mVlMK7PRr0-r",
        "outputId": "cc73865e-a506-4c7a-a392-725fa0f6ed3a"
      },
      "execution_count": null,
      "outputs": [
        {
          "output_type": "stream",
          "name": "stdout",
          "text": [
            "숫자를 입력해 주세요: 230\n",
            "입력된 수 : 230 ==> 짝수\n"
          ]
        }
      ]
    },
    {
      "cell_type": "code",
      "source": [
        "score=int(input(\"성적을 입력해 주세요: \"))\n",
        "grade=\"\"\n",
        "\n",
        "if score>=90:\n",
        "  grade=\"A\"\n",
        "elif score>=80:\n",
        "  grade=\"B\"\n",
        "elif score>=70:\n",
        "  grade=\"C\"\n",
        "else:\n",
        "  grade=\"D\"\n",
        "\n",
        "print('-'*50)\n",
        "print(f\"성적 {score}는 {grade}등급입니다.\")"
      ],
      "metadata": {
        "colab": {
          "base_uri": "https://localhost:8080/"
        },
        "id": "DU-iTbMht-g4",
        "outputId": "fab1a6ad-9546-4733-c199-f40c04a0f213"
      },
      "execution_count": null,
      "outputs": [
        {
          "output_type": "stream",
          "name": "stdout",
          "text": [
            "성적을 입력해 주세요: 87\n",
            "--------------------------------------------------\n",
            "성적 87는 B등급입니다.\n"
          ]
        }
      ]
    },
    {
      "cell_type": "code",
      "source": [
        "t=int(input(\"온도: \"))\n",
        "\n",
        "if t>=30:\n",
        "  print('에어컨을 키세요')\n",
        "elif t<15:\n",
        "  print('내복을 입으세요')\n",
        "elif t<=10:\n",
        "  print('난방기를 켜세요')\n",
        "else:\n",
        "  print('쾌적한 온도입니다')"
      ],
      "metadata": {
        "colab": {
          "base_uri": "https://localhost:8080/"
        },
        "id": "MY9vG4Xe7U1t",
        "outputId": "324f76d4-4e77-4185-d0bb-a2f8cecf1d06"
      },
      "execution_count": null,
      "outputs": [
        {
          "output_type": "stream",
          "name": "stdout",
          "text": [
            "온도: 15\n",
            "쾌적한 온도입니다\n"
          ]
        }
      ]
    },
    {
      "cell_type": "code",
      "source": [
        "userid = input('주민번호: ')\n",
        "yy = userid[:2]   # 년도\n",
        "mm = userid[2:4]  # 월\n",
        "dd = userid[4:6]  # 일\n",
        "\n",
        "# gender확인\n",
        "if userid[7] == '1':\n",
        "  gender = '남성'\n",
        "  yy = 1900 + int(yy)\n",
        "if userid[7] == '2':\n",
        "  gender = '여성'\n",
        "  yy = 1900 + int(yy)\n",
        "if userid[7] == '3':\n",
        "  gender = '남성'\n",
        "  yy = 2000 + int(yy)\n",
        "if userid[7] == '4':\n",
        "  gender = '여성'\n",
        "  yy = 2000 + int(yy)\n",
        "\n",
        "import datetime\n",
        "now  = datetime.datetime.now()\n",
        "age = now.year - yy       # 나이 계산\n",
        "\n",
        "print(f'{yy}년 {mm}월 {dd}일, {age}세, {gender}')"
      ],
      "metadata": {
        "colab": {
          "base_uri": "https://localhost:8080/"
        },
        "id": "f-syEeMYEO4A",
        "outputId": "a90f0edf-518b-437c-e9f8-a142ccfb6304"
      },
      "execution_count": null,
      "outputs": [
        {
          "output_type": "stream",
          "name": "stdout",
          "text": [
            "주민번호: 021010-401010\n",
            "2002년 10월 10일, 21세, 여성\n"
          ]
        }
      ]
    },
    {
      "cell_type": "code",
      "source": [
        "c1_price = 2500\n",
        "c2_price = 3000\n",
        "c3_price = 3000\n",
        "\n",
        "menu = f'''[커피 자동주문 머신 메뉴]\n",
        "--------------------------------------------\n",
        "-아메리카노: {c1_price}원\n",
        "-카페라떼: {c2_price}원\n",
        "-카푸치노: {c3_price}원\n",
        "원하시는 커피종류와 잔수를 입력하세요!\n",
        "--------------------------------------------\n",
        "'''\n",
        "print(menu)\n",
        "\n",
        "c1 = int(input('아메리카노 몇잔: '))\n",
        "c2 = int(input('카페라떼 몇잔: '))\n",
        "c3 = int(input('카푸치노 몇잔: '))\n",
        "\n",
        "total = c1_price*c1 + c2_price*c2 + c3_price*c3\n",
        "print(f'주문하신 총 가격은 {total}원입니다. 돈을 입력해주세요')\n",
        "\n",
        "money = int(input(''))\n",
        "\n",
        "if money < total:\n",
        "  print(f'{total-money}가 부족합니다. 돈을 더 넣어주세요.')\n",
        "\n",
        "else:\n",
        "  print(f'거스름돈은 {abs(total-money)}원입니다.')"
      ],
      "metadata": {
        "colab": {
          "base_uri": "https://localhost:8080/"
        },
        "id": "_MceLj18FWjn",
        "outputId": "4fdde8fa-70a5-4b9f-ece6-4572316720f9"
      },
      "execution_count": null,
      "outputs": [
        {
          "output_type": "stream",
          "name": "stdout",
          "text": [
            "[커피 자동주문 머신 메뉴]\n",
            "--------------------------------------------\n",
            "-아메리카노: 2500원\n",
            "-카페라떼: 3000원\n",
            "-카푸치노: 3000원\n",
            "원하시는 커피종류와 잔수를 입력하세요!\n",
            "--------------------------------------------\n",
            "\n",
            "아메리카노 몇잔: 2\n",
            "카페라떼 몇잔: 1\n",
            "카푸치노 몇잔: 1\n",
            "주문하신 총 가격은 11000원입니다. 돈을 입력해주세요\n",
            "12000\n",
            "거스름돈은 1000원입니다.\n"
          ]
        }
      ]
    }
  ]
}