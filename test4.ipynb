{
  "nbformat": 4,
  "nbformat_minor": 0,
  "metadata": {
    "colab": {
      "provenance": [],
      "authorship_tag": "ABX9TyMWl//EwSxTZXNg17J++O4u",
      "include_colab_link": true
    },
    "kernelspec": {
      "name": "python3",
      "display_name": "Python 3"
    },
    "language_info": {
      "name": "python"
    }
  },
  "cells": [
    {
      "cell_type": "markdown",
      "metadata": {
        "id": "view-in-github",
        "colab_type": "text"
      },
      "source": [
        "<a href=\"https://colab.research.google.com/github/ljw08/bioinfomatics/blob/main/test4.ipynb\" target=\"_parent\"><img src=\"https://colab.research.google.com/assets/colab-badge.svg\" alt=\"Open In Colab\"/></a>"
      ]
    },
    {
      "cell_type": "markdown",
      "source": [
        "# 나의 네번째 파이썬 프로그램\n",
        "## 코랩에서 작성된 코드\n",
        "### 간단한 사칙연산 출력\n",
        "\n",
        "코랩에서 텍스트 작성방법을 설명하고 있습니다.\n",
        "----\n",
        "\n",
        "\n",
        "1.  항목 추가\n",
        "2.  항목 추가"
      ],
      "metadata": {
        "id": "6IO_H0gsfinJ"
      }
    },
    {
      "cell_type": "code",
      "source": [
        "print(100+500)\n",
        "print(100-500)\n",
        "print(100*500)\n",
        "print(100/500)"
      ],
      "metadata": {
        "colab": {
          "base_uri": "https://localhost:8080/"
        },
        "id": "S_9vhdXW-yJi",
        "outputId": "710e474d-e5fa-4f98-c4f3-225fd8a19dae"
      },
      "execution_count": null,
      "outputs": [
        {
          "output_type": "stream",
          "name": "stdout",
          "text": [
            "600\n",
            "-400\n",
            "50000\n",
            "0.2\n"
          ]
        }
      ]
    },
    {
      "cell_type": "code",
      "source": [
        "import sys\n",
        "\n",
        "print(\"나의 네번째 파이썬 프로그램!\")\n",
        "print(sys.version)"
      ],
      "metadata": {
        "id": "V4dcb3P0_D7I",
        "outputId": "76050c04-a44c-43e7-b3d7-43a3c6560f14",
        "colab": {
          "base_uri": "https://localhost:8080/"
        }
      },
      "execution_count": null,
      "outputs": [
        {
          "output_type": "stream",
          "name": "stdout",
          "text": [
            "나의 네번째 파이썬 프로그램!\n",
            "3.10.12 (main, Jun 11 2023, 05:26:28) [GCC 11.4.0]\n"
          ]
        }
      ]
    }
  ]
}