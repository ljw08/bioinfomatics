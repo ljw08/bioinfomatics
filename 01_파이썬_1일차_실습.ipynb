{
  "nbformat": 4,
  "nbformat_minor": 0,
  "metadata": {
    "colab": {
      "provenance": [],
      "authorship_tag": "ABX9TyOCfAGgIVQ88k7ry3sEIzMo",
      "include_colab_link": true
    },
    "kernelspec": {
      "name": "python3",
      "display_name": "Python 3"
    },
    "language_info": {
      "name": "python"
    }
  },
  "cells": [
    {
      "cell_type": "markdown",
      "metadata": {
        "id": "view-in-github",
        "colab_type": "text"
      },
      "source": [
        "<a href=\"https://colab.research.google.com/github/ljw08/bioinfomatics/blob/main/01_%ED%8C%8C%EC%9D%B4%EC%8D%AC_1%EC%9D%BC%EC%B0%A8_%EC%8B%A4%EC%8A%B5.ipynb\" target=\"_parent\"><img src=\"https://colab.research.google.com/assets/colab-badge.svg\" alt=\"Open In Colab\"/></a>"
      ]
    },
    {
      "cell_type": "markdown",
      "source": [
        "## 파이썬 자료형"
      ],
      "metadata": {
        "id": "TlK7pJHpe5bX"
      }
    },
    {
      "cell_type": "code",
      "execution_count": 6,
      "metadata": {
        "colab": {
          "base_uri": "https://localhost:8080/"
        },
        "id": "7UO2K0XgdlSB",
        "outputId": "65eaaa93-3224-4f7f-a654-c685cbefb3cf"
      },
      "outputs": [
        {
          "output_type": "stream",
          "name": "stdout",
          "text": [
            "<class 'int'>\n",
            "<class 'float'>\n",
            "<class 'str'>\n"
          ]
        }
      ],
      "source": [
        "# 데이터 형태를 확인해 주는 함수: type()\n",
        "# 화면에 출력해주는 함수: print()\n",
        "\n",
        "print(type(100))\n",
        "print(type(100.0))\n",
        "print(type(\"파이썬\"))"
      ]
    },
    {
      "cell_type": "code",
      "source": [
        "# 변수에 값을 지정해서 사용한다.\n",
        "\n",
        "a=100\n",
        "b=50\n",
        "c=\"파이썬\"\n",
        "print(a+b)\n",
        "print(c)"
      ],
      "metadata": {
        "colab": {
          "base_uri": "https://localhost:8080/"
        },
        "id": "nC9wdo_xgLca",
        "outputId": "a35c9b3a-2f06-406e-a6cd-fac3db60727d"
      },
      "execution_count": 7,
      "outputs": [
        {
          "output_type": "stream",
          "name": "stdout",
          "text": [
            "150\n",
            "파이썬\n"
          ]
        }
      ]
    },
    {
      "cell_type": "code",
      "source": [
        "사과=\"수박\"\n",
        "print(사과)"
      ],
      "metadata": {
        "colab": {
          "base_uri": "https://localhost:8080/"
        },
        "id": "6eW-FygJhFZa",
        "outputId": "420ae575-6c0d-4f88-f0ae-599c5bd0117d"
      },
      "execution_count": 8,
      "outputs": [
        {
          "output_type": "stream",
          "name": "stdout",
          "text": [
            "수박\n"
          ]
        }
      ]
    },
    {
      "cell_type": "code",
      "source": [
        "a=3.14\n",
        "b=314\n",
        "print(int(a))\n",
        "print(float(b))"
      ],
      "metadata": {
        "colab": {
          "base_uri": "https://localhost:8080/"
        },
        "id": "RsgLvLf_h2Y0",
        "outputId": "95d95002-d3b2-4f08-f8d7-089d34334c45"
      },
      "execution_count": 10,
      "outputs": [
        {
          "output_type": "stream",
          "name": "stdout",
          "text": [
            "3\n",
            "314.0\n"
          ]
        }
      ]
    },
    {
      "cell_type": "markdown",
      "source": [
        "###문자열형"
      ],
      "metadata": {
        "id": "d3j6jtEzphJT"
      }
    },
    {
      "cell_type": "code",
      "source": [
        "# + : 문자열을 붙여서 표현한다. # ,는 공백 문자 추가\n",
        "\n",
        "print('오늘은' + '파이썬 첫째날!')\n",
        "print('오늘은' , '파이썬 첫째날!')"
      ],
      "metadata": {
        "colab": {
          "base_uri": "https://localhost:8080/"
        },
        "id": "O4EMUFu6pZE_",
        "outputId": "5e643a29-e6b7-41b2-81b3-2da6faafdd71"
      },
      "execution_count": 12,
      "outputs": [
        {
          "output_type": "stream",
          "name": "stdout",
          "text": [
            "오늘은파이썬 첫째날!\n",
            "오늘은 파이썬 첫째날!\n"
          ]
        }
      ]
    },
    {
      "cell_type": "code",
      "source": [
        "# * : 문자열을 반복한다.\n",
        "\n",
        "print(\"반짝\"*5)\n",
        "print(\"-\"*50)"
      ],
      "metadata": {
        "colab": {
          "base_uri": "https://localhost:8080/"
        },
        "id": "cZa82WMbp95E",
        "outputId": "a89f9bd3-0c58-4b65-caa3-17bc65874603"
      },
      "execution_count": 14,
      "outputs": [
        {
          "output_type": "stream",
          "name": "stdout",
          "text": [
            "반짝반짝반짝반짝반짝\n",
            "--------------------------------------------------\n"
          ]
        }
      ]
    },
    {
      "cell_type": "markdown",
      "source": [
        "### Bool 타입"
      ],
      "metadata": {
        "id": "1Qmls-28qn5N"
      }
    },
    {
      "cell_type": "code",
      "source": [
        "# True, False는 무조건 대문자\n",
        "a=True\n",
        "b=False\n",
        "print(a,b)"
      ],
      "metadata": {
        "colab": {
          "base_uri": "https://localhost:8080/"
        },
        "id": "tYnXY1O0qk-y",
        "outputId": "b70b6db0-8b80-479b-8ac3-51c0600f9be2"
      },
      "execution_count": 20,
      "outputs": [
        {
          "output_type": "stream",
          "name": "stdout",
          "text": [
            "True False\n"
          ]
        }
      ]
    },
    {
      "cell_type": "code",
      "source": [
        "a=100\n",
        "b=200\n",
        "print(type(a>b))"
      ],
      "metadata": {
        "colab": {
          "base_uri": "https://localhost:8080/"
        },
        "id": "4C8XWpwCriK-",
        "outputId": "0f5d9799-38e5-49db-e01a-3de2bf7e5de8"
      },
      "execution_count": 21,
      "outputs": [
        {
          "output_type": "stream",
          "name": "stdout",
          "text": [
            "<class 'bool'>\n"
          ]
        }
      ]
    },
    {
      "cell_type": "markdown",
      "source": [
        "### 파이썬 기본 입출력"
      ],
      "metadata": {
        "id": "ODrv8SFWsy7W"
      }
    },
    {
      "cell_type": "code",
      "source": [
        "# 파이썬으로 사칙연산 하기 프로그램\n",
        "\n",
        "a = input(\"키보드로 입력하세요: \")\n",
        "a = int(a)                              # 정수로 만들기\n",
        "print('a의 값은: ',a,type(a))\n",
        "\n",
        "# a = int(input(\"키보드로 입력하세요: \"))"
      ],
      "metadata": {
        "colab": {
          "base_uri": "https://localhost:8080/"
        },
        "id": "Cwp8jv8rs4Ys",
        "outputId": "a69aa32d-7204-447f-bf8f-7bb377abea18"
      },
      "execution_count": 27,
      "outputs": [
        {
          "output_type": "stream",
          "name": "stdout",
          "text": [
            "키보드로 입력하세요: 100\n",
            "a의 값은:  100 <class 'int'>\n"
          ]
        }
      ]
    },
    {
      "cell_type": "code",
      "source": [
        "num1 = int(input(\"첫번째 숫자: \"))\n",
        "num2 = int(input(\"두번째 숫자: \"))\n",
        "print('-'*30)\n",
        "print('덧셈: %d + %d = %d' % (num1,num2,num1+num2))\n",
        "print('뺄셈: %d - %d = %d' % (num1,num2,num1-num2))\n",
        "print('곱셈: %d * %d = %d' % (num1,num2,num1*num2))\n",
        "print('나눗셈: %d / %d = %d' % (num1,num2,num1/num2))\n",
        "print('몫: %d // %d = %d' % (num1,num2,num1//num2))"
      ],
      "metadata": {
        "colab": {
          "base_uri": "https://localhost:8080/"
        },
        "id": "RnTUaE8dub15",
        "outputId": "0f5e33a7-dc8f-4314-95ca-6b7549cc2adf"
      },
      "execution_count": 37,
      "outputs": [
        {
          "output_type": "stream",
          "name": "stdout",
          "text": [
            "첫번째 숫자: 200\n",
            "두번째 숫자: 30\n",
            "------------------------------\n",
            "덧셈: 200 + 30 = 230\n",
            "뺄셈: 200 - 30 = 170\n",
            "곱셈: 200 * 30 = 6000\n",
            "나눗셈: 200 / 30 = 6\n",
            "몫: 200 // 30 = 6\n"
          ]
        }
      ]
    },
    {
      "cell_type": "code",
      "source": [
        "num1 = int(input(\"첫번째 숫자: \"))\n",
        "num2 = int(input(\"두번째 숫자: \"))\n",
        "print('-'*30)\n",
        "print(f'덧셈: {num1} + {num2:>3} = {num1+num2}')\n",
        "print(f'뺄셈: {num1} - {num2:0>3} = {num1-num2}')\n",
        "print(f'곱셈: {num1} * {num2} = {num1*num2}')\n",
        "print(f'나눗셈: {num1} / {num2} = {num1/num2}')"
      ],
      "metadata": {
        "colab": {
          "base_uri": "https://localhost:8080/"
        },
        "id": "LcxT4dAmwhZn",
        "outputId": "08501240-19d5-4bdd-ef8b-c3a034394324"
      },
      "execution_count": 43,
      "outputs": [
        {
          "output_type": "stream",
          "name": "stdout",
          "text": [
            "첫번째 숫자: 200\n",
            "두번째 숫자: 30\n",
            "------------------------------\n",
            "덧셈: 200 +  30 = 230\n",
            "뺄셈: 200 - 030 = 170\n",
            "곱셈: 200 * 30 = 6000\n",
            "나눗셈: 200 / 30 = 6.666666666666667\n"
          ]
        }
      ]
    },
    {
      "cell_type": "code",
      "source": [
        "a = int(input(\"속도를 입력해 주세요: \"))\n",
        "b = int(input(\"거리를 입력해 주세요: \"))\n",
        "\n",
        "print(\"속도= \",a)\n",
        "print(\"거리= \",b)\n",
        "print(f\"시간: {b} / {a} = {b/a}\")"
      ],
      "metadata": {
        "colab": {
          "base_uri": "https://localhost:8080/"
        },
        "id": "deK1twVgyt1x",
        "outputId": "406349c8-7bb2-49fa-d48f-3bb240d71231"
      },
      "execution_count": 45,
      "outputs": [
        {
          "output_type": "stream",
          "name": "stdout",
          "text": [
            "속도를 입력해 주세요: 200\n",
            "거리를 입력해 주세요: 50\n",
            "속도=  200\n",
            "거리=  50\n",
            "시간: 50 / 200 = 0.25\n"
          ]
        }
      ]
    },
    {
      "cell_type": "code",
      "source": [
        "a = int(input(\"길이: \"))\n",
        "b = int(input(\"너비: \"))\n",
        "\n",
        "print(f\"면적: {a} * {b} = {a*b}\")\n",
        "print(f\"둘레: {a} *2 + {b} *2 = {a*2+b*2}\")"
      ],
      "metadata": {
        "colab": {
          "base_uri": "https://localhost:8080/"
        },
        "id": "4gqgwLJy1Fm6",
        "outputId": "dda2dfb4-066d-469c-d17a-e4c1596e1f13"
      },
      "execution_count": 46,
      "outputs": [
        {
          "output_type": "stream",
          "name": "stdout",
          "text": [
            "길이: 100\n",
            "너비: 20\n",
            "면적: 100 * 20 = 2000\n",
            "둘레: 100 *2 + 20 *2 = 240\n"
          ]
        }
      ]
    },
    {
      "cell_type": "code",
      "source": [
        "a = int(input(\"정수를 입력하세요: \"))\n",
        "\n",
        "n1=a\n",
        "n2=10*a+a\n",
        "n3=100*a+10*a+a\n",
        "\n",
        "print(f\"{n1} + {n2} + {n3} = {n1+n2+n3}\")"
      ],
      "metadata": {
        "colab": {
          "base_uri": "https://localhost:8080/"
        },
        "id": "o3DB1hjf14VT",
        "outputId": "51f74699-bb54-4486-f408-6fae095bdbc8"
      },
      "execution_count": 48,
      "outputs": [
        {
          "output_type": "stream",
          "name": "stdout",
          "text": [
            "정수를 입력하세요: 7\n",
            "7 + 77 + 777 = 861\n"
          ]
        }
      ]
    },
    {
      "cell_type": "code",
      "source": [
        "# eval() : 문자열을 숫자처럼 계산해준다\n",
        "# ex: eval(\"3+4\")\n",
        "\n",
        "a = input(\"정수를 입력하세요:\")\n",
        "result = f\"{a} + {a+a} +{a+a+a}\"\n",
        "print(f\"{result} = {eval(result)}\")"
      ],
      "metadata": {
        "colab": {
          "base_uri": "https://localhost:8080/"
        },
        "id": "JNzLP82J7_rz",
        "outputId": "e07bebdf-bad0-4813-f56b-295efe715e24"
      },
      "execution_count": 57,
      "outputs": [
        {
          "output_type": "stream",
          "name": "stdout",
          "text": [
            "정수를 입력하세요:7\n",
            "7 + 77 +777 = 861\n"
          ]
        }
      ]
    }
  ]
}