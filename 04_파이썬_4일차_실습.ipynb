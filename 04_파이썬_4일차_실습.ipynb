{
  "nbformat": 4,
  "nbformat_minor": 0,
  "metadata": {
    "colab": {
      "provenance": [],
      "authorship_tag": "ABX9TyMNa9ENevL17bZwZ7lF7lS1",
      "include_colab_link": true
    },
    "kernelspec": {
      "name": "python3",
      "display_name": "Python 3"
    },
    "language_info": {
      "name": "python"
    }
  },
  "cells": [
    {
      "cell_type": "markdown",
      "metadata": {
        "id": "view-in-github",
        "colab_type": "text"
      },
      "source": [
        "<a href=\"https://colab.research.google.com/github/ljw08/bioinfomatics/blob/main/04_%ED%8C%8C%EC%9D%B4%EC%8D%AC_4%EC%9D%BC%EC%B0%A8_%EC%8B%A4%EC%8A%B5.ipynb\" target=\"_parent\"><img src=\"https://colab.research.google.com/assets/colab-badge.svg\" alt=\"Open In Colab\"/></a>"
      ]
    },
    {
      "cell_type": "code",
      "source": [
        "# 무인 호텔 관리 시스템\n",
        "\n",
        "menu = '''< 메뉴 >\n",
        "1. 체크인\n",
        "2. 체크아웃\n",
        "3. 현황 보기\n",
        "0. 종료하기'''\n",
        "\n",
        "print('< 무인 호텔 관리 시스템 >')\n",
        "room = int(input('방 개수를 입력하세요:'))\n",
        "a = []\n",
        "population = 0\n",
        "\n",
        "for i in range(1,room+1):\n",
        "  a.append(0)\n",
        "print(a)\n",
        "print('-'*70)\n",
        "\n",
        "while True:\n",
        "  print(menu)\n",
        "  choice = int(input('---> 메뉴를 선택해주세요: '))\n",
        "  if choice == 1:\n",
        "    check_room = int(input('체크인 하실 호수: '))\n",
        "    if a[check_room-1] == 0:\n",
        "      a[check_room-1] += 1\n",
        "    else:\n",
        "      print('입실 중인 방은 체크인하실 수 없습니다.')\n",
        "\n",
        "  elif choice == 2:\n",
        "    check_out_room = int(input('체크아웃 하실 호수: '))\n",
        "    if a[check_out_room-1] == 1:\n",
        "      a[check_out_room-1] -= 1\n",
        "      print('퇴실 완료!')\n",
        "    else:\n",
        "      print('빈방은 체크아웃하실 수 없습니다.')\n",
        "\n",
        "  elif choice == 3:\n",
        "    print('----- 객실 현황----------')\n",
        "    for k in range(room):\n",
        "      if a[k] == 0:\n",
        "        status = '빈 방'\n",
        "      elif a[k] == 1:\n",
        "        status = '입실중'\n",
        "      print(f'{k+1}호 : {status}')\n",
        "\n",
        "  elif choice == 0:\n",
        "    break\n",
        "  print('-'*70)\n",
        "print('영업종료')"
      ],
      "metadata": {
        "colab": {
          "base_uri": "https://localhost:8080/"
        },
        "id": "CNxJyEFEDoP4",
        "outputId": "9107958f-f753-45c7-b3e7-44f61459480c"
      },
      "execution_count": 31,
      "outputs": [
        {
          "output_type": "stream",
          "name": "stdout",
          "text": [
            "< 무인 호텔 관리 시스템 >\n",
            "방 개수를 입력하세요:7\n",
            "[0, 0, 0, 0, 0, 0, 0]\n",
            "----------------------------------------------------------------------\n",
            "< 메뉴 >\n",
            "1. 체크인\n",
            "2. 체크아웃\n",
            "3. 현황 보기\n",
            "0. 종료하기\n",
            "---> 메뉴를 선택해주세요: 1\n",
            "체크인 하실 호수: 2\n",
            "----------------------------------------------------------------------\n",
            "< 메뉴 >\n",
            "1. 체크인\n",
            "2. 체크아웃\n",
            "3. 현황 보기\n",
            "0. 종료하기\n",
            "---> 메뉴를 선택해주세요: 3\n",
            "----- 객실 현황----------\n",
            "1호 : 빈 방\n",
            "2호 : 입실중\n",
            "3호 : 빈 방\n",
            "4호 : 빈 방\n",
            "5호 : 빈 방\n",
            "6호 : 빈 방\n",
            "7호 : 빈 방\n",
            "----------------------------------------------------------------------\n",
            "< 메뉴 >\n",
            "1. 체크인\n",
            "2. 체크아웃\n",
            "3. 현황 보기\n",
            "0. 종료하기\n",
            "---> 메뉴를 선택해주세요: 1\n",
            "체크인 하실 호수: 2\n",
            "입실 중인 방은 체크인하실 수 없습니다.\n",
            "----------------------------------------------------------------------\n",
            "< 메뉴 >\n",
            "1. 체크인\n",
            "2. 체크아웃\n",
            "3. 현황 보기\n",
            "0. 종료하기\n",
            "---> 메뉴를 선택해주세요: 2\n",
            "체크아웃 하실 호수: 1\n",
            "빈방은 체크아웃하실 수 없습니다.\n",
            "----------------------------------------------------------------------\n",
            "< 메뉴 >\n",
            "1. 체크인\n",
            "2. 체크아웃\n",
            "3. 현황 보기\n",
            "0. 종료하기\n",
            "---> 메뉴를 선택해주세요: 3\n",
            "----- 객실 현황----------\n",
            "1호 : 빈 방\n",
            "2호 : 입실중\n",
            "3호 : 빈 방\n",
            "4호 : 빈 방\n",
            "5호 : 빈 방\n",
            "6호 : 빈 방\n",
            "7호 : 빈 방\n",
            "----------------------------------------------------------------------\n",
            "< 메뉴 >\n",
            "1. 체크인\n",
            "2. 체크아웃\n",
            "3. 현황 보기\n",
            "0. 종료하기\n",
            "---> 메뉴를 선택해주세요: 1\n",
            "체크인 하실 호수: 1\n",
            "----------------------------------------------------------------------\n",
            "< 메뉴 >\n",
            "1. 체크인\n",
            "2. 체크아웃\n",
            "3. 현황 보기\n",
            "0. 종료하기\n",
            "---> 메뉴를 선택해주세요: 3\n",
            "----- 객실 현황----------\n",
            "1호 : 입실중\n",
            "2호 : 입실중\n",
            "3호 : 빈 방\n",
            "4호 : 빈 방\n",
            "5호 : 빈 방\n",
            "6호 : 빈 방\n",
            "7호 : 빈 방\n",
            "----------------------------------------------------------------------\n",
            "< 메뉴 >\n",
            "1. 체크인\n",
            "2. 체크아웃\n",
            "3. 현황 보기\n",
            "0. 종료하기\n",
            "---> 메뉴를 선택해주세요: 0\n",
            "영업종료\n"
          ]
        }
      ]
    },
    {
      "cell_type": "code",
      "execution_count": 5,
      "metadata": {
        "colab": {
          "base_uri": "https://localhost:8080/"
        },
        "id": "xJmysNwP8F6c",
        "outputId": "d2bc2789-3900-4743-930c-bd0905ac3284"
      },
      "outputs": [
        {
          "output_type": "stream",
          "name": "stdout",
          "text": [
            "----------------------------------------------------------------------\n",
            "* 비밀의 숫자가 지정되었습니다.\n",
            "----------------------------------------------------------------------\n",
            "숫자를 입력하세요: 25\n",
            "비밀의 수는 더 큰 수 입니다.\n",
            "숫자를 입력하세요: 46\n",
            "비밀의 수는 더 큰 수 입니다.\n",
            "숫자를 입력하세요: 87\n",
            "비밀의 수는 더 작은 수 입니다.\n",
            "숫자를 입력하세요: 57\n",
            "비밀의 수는 더 큰 수 입니다.\n",
            "숫자를 입력하세요: 67\n",
            "비밀의 수는 더 작은 수 입니다.\n",
            "숫자를 입력하세요: 65\n",
            "정답입니다.\n",
            "----------------------------------------------------------------------\n",
            "비밀의 숫자: 65\n",
            "당신의 입력횟수: 6\n"
          ]
        }
      ],
      "source": [
        "# 1~100 사이의 비밀의 숫자를 생성 시킨 후 숫자 맞추기\n",
        "\n",
        "import random\n",
        "secret_code = random.randint(1,100)\n",
        "attempt = 0\n",
        "\n",
        "print('-'*70)\n",
        "print('* 비밀의 숫자가 지정되었습니다.')\n",
        "print('-'*70)\n",
        "\n",
        "while True:\n",
        "  attempt += 1\n",
        "  num = int(input('숫자를 입력하세요: '))\n",
        "  if num < secret_code:\n",
        "    print('비밀의 수는 더 큰 수 입니다.')\n",
        "  elif num > secret_code:\n",
        "    print('비밀의 수는 더 작은 수 입니다.')\n",
        "  elif num == secret_code:\n",
        "    break\n",
        "print('정답입니다.')\n",
        "print('-'*70)\n",
        "print(f'''비밀의 숫자: {secret_code}\n",
        "당신의 입력횟수: {attempt}''')"
      ]
    },
    {
      "cell_type": "code",
      "source": [
        "height = int(input('공의 높이를 입력하세요(meter): '))\n",
        "meter, total = height, 0\n",
        "\n",
        "while True:\n",
        "  meter /= 2\n",
        "  total += 1\n",
        "  if meter < 0.00001: break\n",
        "print(f'{height} 위치에서 공의 튕긴 횟수는 총 {total}번 입니다.')"
      ],
      "metadata": {
        "colab": {
          "base_uri": "https://localhost:8080/"
        },
        "id": "Irc4_CwOHG2h",
        "outputId": "2ac90b3e-3e2b-47aa-a1d3-ac6a5b843647"
      },
      "execution_count": 25,
      "outputs": [
        {
          "output_type": "stream",
          "name": "stdout",
          "text": [
            "공의 높이를 입력하세요(meter): 30\n",
            "30 위치에서 공의 튕긴 횟수는 총 22번 입니다.\n"
          ]
        }
      ]
    },
    {
      "cell_type": "markdown",
      "source": [
        "### enumerate() : 인덱스와 값을 함께 사용할 수 있는 함수"
      ],
      "metadata": {
        "id": "hTVQA0-tLWbl"
      }
    },
    {
      "cell_type": "code",
      "source": [
        "for i in [3,4,6,8,9]:\n",
        "  print(i)"
      ],
      "metadata": {
        "colab": {
          "base_uri": "https://localhost:8080/"
        },
        "id": "0Mnert2mLewX",
        "outputId": "88db7d49-a7a2-4ea7-fba9-a4702ba8a765"
      },
      "execution_count": 21,
      "outputs": [
        {
          "output_type": "stream",
          "name": "stdout",
          "text": [
            "3\n",
            "4\n",
            "6\n",
            "8\n",
            "9\n"
          ]
        }
      ]
    },
    {
      "cell_type": "code",
      "source": [
        "a_list = [3,4,6,8,9]\n",
        "six_index = a_list.index(6)\n",
        "print(f'6이란 값의 인덱스: {six_index}')\n",
        "\n",
        "for idx, v in enumerate(a_list):\n",
        "  print(f'인덱스:{idx} 값:{v}')"
      ],
      "metadata": {
        "colab": {
          "base_uri": "https://localhost:8080/"
        },
        "id": "6kbRJHR8MGk_",
        "outputId": "d7310863-7f75-4e33-d313-893100aad246"
      },
      "execution_count": 24,
      "outputs": [
        {
          "output_type": "stream",
          "name": "stdout",
          "text": [
            "6이란 값의 인덱스: 2\n",
            "인덱스:0 값:3\n",
            "인덱스:1 값:4\n",
            "인덱스:2 값:6\n",
            "인덱스:3 값:8\n",
            "인덱스:4 값:9\n"
          ]
        }
      ]
    },
    {
      "cell_type": "markdown",
      "source": [
        "# 파이썬 자료형 : List(리스트)"
      ],
      "metadata": {
        "id": "iJ8Ll5lJSBaV"
      }
    },
    {
      "cell_type": "code",
      "source": [
        "print(type([1,2,3,4]))"
      ],
      "metadata": {
        "colab": {
          "base_uri": "https://localhost:8080/"
        },
        "id": "0zrjvhVmQtvI",
        "outputId": "e22bd1cd-5758-42aa-a6f5-3d0992d1e43b"
      },
      "execution_count": 32,
      "outputs": [
        {
          "output_type": "stream",
          "name": "stdout",
          "text": [
            "<class 'list'>\n"
          ]
        }
      ]
    },
    {
      "cell_type": "code",
      "source": [
        "help(list)      # 함수 찾기"
      ],
      "metadata": {
        "colab": {
          "base_uri": "https://localhost:8080/"
        },
        "id": "OY1G7vt_St_8",
        "outputId": "23288ece-e69f-44b3-c0cd-c5b25dffaa48"
      },
      "execution_count": 33,
      "outputs": [
        {
          "output_type": "stream",
          "name": "stdout",
          "text": [
            "Help on class list in module builtins:\n",
            "\n",
            "class list(object)\n",
            " |  list(iterable=(), /)\n",
            " |  \n",
            " |  Built-in mutable sequence.\n",
            " |  \n",
            " |  If no argument is given, the constructor creates a new empty list.\n",
            " |  The argument must be an iterable if specified.\n",
            " |  \n",
            " |  Methods defined here:\n",
            " |  \n",
            " |  __add__(self, value, /)\n",
            " |      Return self+value.\n",
            " |  \n",
            " |  __contains__(self, key, /)\n",
            " |      Return key in self.\n",
            " |  \n",
            " |  __delitem__(self, key, /)\n",
            " |      Delete self[key].\n",
            " |  \n",
            " |  __eq__(self, value, /)\n",
            " |      Return self==value.\n",
            " |  \n",
            " |  __ge__(self, value, /)\n",
            " |      Return self>=value.\n",
            " |  \n",
            " |  __getattribute__(self, name, /)\n",
            " |      Return getattr(self, name).\n",
            " |  \n",
            " |  __getitem__(...)\n",
            " |      x.__getitem__(y) <==> x[y]\n",
            " |  \n",
            " |  __gt__(self, value, /)\n",
            " |      Return self>value.\n",
            " |  \n",
            " |  __iadd__(self, value, /)\n",
            " |      Implement self+=value.\n",
            " |  \n",
            " |  __imul__(self, value, /)\n",
            " |      Implement self*=value.\n",
            " |  \n",
            " |  __init__(self, /, *args, **kwargs)\n",
            " |      Initialize self.  See help(type(self)) for accurate signature.\n",
            " |  \n",
            " |  __iter__(self, /)\n",
            " |      Implement iter(self).\n",
            " |  \n",
            " |  __le__(self, value, /)\n",
            " |      Return self<=value.\n",
            " |  \n",
            " |  __len__(self, /)\n",
            " |      Return len(self).\n",
            " |  \n",
            " |  __lt__(self, value, /)\n",
            " |      Return self<value.\n",
            " |  \n",
            " |  __mul__(self, value, /)\n",
            " |      Return self*value.\n",
            " |  \n",
            " |  __ne__(self, value, /)\n",
            " |      Return self!=value.\n",
            " |  \n",
            " |  __repr__(self, /)\n",
            " |      Return repr(self).\n",
            " |  \n",
            " |  __reversed__(self, /)\n",
            " |      Return a reverse iterator over the list.\n",
            " |  \n",
            " |  __rmul__(self, value, /)\n",
            " |      Return value*self.\n",
            " |  \n",
            " |  __setitem__(self, key, value, /)\n",
            " |      Set self[key] to value.\n",
            " |  \n",
            " |  __sizeof__(self, /)\n",
            " |      Return the size of the list in memory, in bytes.\n",
            " |  \n",
            " |  append(self, object, /)\n",
            " |      Append object to the end of the list.\n",
            " |  \n",
            " |  clear(self, /)\n",
            " |      Remove all items from list.\n",
            " |  \n",
            " |  copy(self, /)\n",
            " |      Return a shallow copy of the list.\n",
            " |  \n",
            " |  count(self, value, /)\n",
            " |      Return number of occurrences of value.\n",
            " |  \n",
            " |  extend(self, iterable, /)\n",
            " |      Extend list by appending elements from the iterable.\n",
            " |  \n",
            " |  index(self, value, start=0, stop=9223372036854775807, /)\n",
            " |      Return first index of value.\n",
            " |      \n",
            " |      Raises ValueError if the value is not present.\n",
            " |  \n",
            " |  insert(self, index, object, /)\n",
            " |      Insert object before index.\n",
            " |  \n",
            " |  pop(self, index=-1, /)\n",
            " |      Remove and return item at index (default last).\n",
            " |      \n",
            " |      Raises IndexError if list is empty or index is out of range.\n",
            " |  \n",
            " |  remove(self, value, /)\n",
            " |      Remove first occurrence of value.\n",
            " |      \n",
            " |      Raises ValueError if the value is not present.\n",
            " |  \n",
            " |  reverse(self, /)\n",
            " |      Reverse *IN PLACE*.\n",
            " |  \n",
            " |  sort(self, /, *, key=None, reverse=False)\n",
            " |      Sort the list in ascending order and return None.\n",
            " |      \n",
            " |      The sort is in-place (i.e. the list itself is modified) and stable (i.e. the\n",
            " |      order of two equal elements is maintained).\n",
            " |      \n",
            " |      If a key function is given, apply it once to each list item and sort them,\n",
            " |      ascending or descending, according to their function values.\n",
            " |      \n",
            " |      The reverse flag can be set to sort in descending order.\n",
            " |  \n",
            " |  ----------------------------------------------------------------------\n",
            " |  Class methods defined here:\n",
            " |  \n",
            " |  __class_getitem__(...) from builtins.type\n",
            " |      See PEP 585\n",
            " |  \n",
            " |  ----------------------------------------------------------------------\n",
            " |  Static methods defined here:\n",
            " |  \n",
            " |  __new__(*args, **kwargs) from builtins.type\n",
            " |      Create and return a new object.  See help(type) for accurate signature.\n",
            " |  \n",
            " |  ----------------------------------------------------------------------\n",
            " |  Data and other attributes defined here:\n",
            " |  \n",
            " |  __hash__ = None\n",
            "\n"
          ]
        }
      ]
    },
    {
      "cell_type": "markdown",
      "source": [
        "### 리스트 생성"
      ],
      "metadata": {
        "id": "dR1criUDTKqL"
      }
    },
    {
      "cell_type": "code",
      "source": [
        "# 빈 리스트 생성\n",
        "my_list = list()\n",
        "my_list = []\n",
        "\n",
        "# 리스트 생성\n",
        "my_list = list(range(1,11))         # [1, 2, 3, 4, 5, 6, 7, 8, 9, 10]"
      ],
      "metadata": {
        "colab": {
          "base_uri": "https://localhost:8080/"
        },
        "id": "B1rDeJZ3Sy4z",
        "outputId": "48f2d491-74c9-45e9-8499-6f059dc9e092"
      },
      "execution_count": 34,
      "outputs": [
        {
          "output_type": "stream",
          "name": "stdout",
          "text": [
            "[1, 2, 3, 4, 5, 6, 7, 8, 9, 10]\n"
          ]
        }
      ]
    },
    {
      "cell_type": "markdown",
      "source": [
        "### 리스트 요소(element)에 접근하기"
      ],
      "metadata": {
        "id": "M3l5O4HUT679"
      }
    },
    {
      "cell_type": "code",
      "source": [
        "# 인덱스로 요소에 접근한다.\n",
        "colors = ['red','green','blue','orange','purple']\n",
        "print(f'인덱스 2번의 값(요소)은 {colors[2]}')\n",
        "print(colors[2:])"
      ],
      "metadata": {
        "colab": {
          "base_uri": "https://localhost:8080/"
        },
        "id": "VCAGNkJ7T_x5",
        "outputId": "28142569-2b53-4d1f-8668-dfcf09c645de"
      },
      "execution_count": 38,
      "outputs": [
        {
          "output_type": "stream",
          "name": "stdout",
          "text": [
            "인덱스 2번의 값(요소)은 blue\n",
            "['blue', 'orange', 'purple']\n"
          ]
        }
      ]
    },
    {
      "cell_type": "code",
      "source": [
        "for idx, color in enumerate(colors):\n",
        "  print(f'내가 좋아하는 색상은 {idx}:{color}!')"
      ],
      "metadata": {
        "colab": {
          "base_uri": "https://localhost:8080/"
        },
        "id": "fvPXnuifUrP0",
        "outputId": "a272c7f1-3970-4e52-800e-960192758cbd"
      },
      "execution_count": 40,
      "outputs": [
        {
          "output_type": "stream",
          "name": "stdout",
          "text": [
            "내가 좋아하는 색상은 0:red!\n",
            "내가 좋아하는 색상은 1:green!\n",
            "내가 좋아하는 색상은 2:blue!\n",
            "내가 좋아하는 색상은 3:orange!\n",
            "내가 좋아하는 색상은 4:purple!\n"
          ]
        }
      ]
    },
    {
      "cell_type": "code",
      "source": [
        "# 리스트 합치기\n",
        "a = [1,2,3]\n",
        "b = [4,5,6,7]\n",
        "len(a+b)"
      ],
      "metadata": {
        "colab": {
          "base_uri": "https://localhost:8080/"
        },
        "id": "L8PZUrbVVnVQ",
        "outputId": "0abfaad0-628e-4ad2-87af-895c5bc7c32f"
      },
      "execution_count": 42,
      "outputs": [
        {
          "output_type": "execute_result",
          "data": {
            "text/plain": [
              "7"
            ]
          },
          "metadata": {},
          "execution_count": 42
        }
      ]
    },
    {
      "cell_type": "markdown",
      "source": [
        "### 리스트에 요소 추가하기"
      ],
      "metadata": {
        "id": "ru3kjJyZWGXz"
      }
    },
    {
      "cell_type": "code",
      "source": [
        "colors = ['red','green','blue','orange','purple']\n",
        "print(colors)\n",
        "\n",
        "# 맨 뒤에 추가하기\n",
        "colors.append('pink')\n",
        "print(colors)\n",
        "\n",
        "# 특정 위치에 추가하기         # 뒤쪽 인덱스가 밀린다.\n",
        "colors.insert(3,'gray')\n",
        "print(colors)"
      ],
      "metadata": {
        "colab": {
          "base_uri": "https://localhost:8080/"
        },
        "id": "L2Tmo7UOV6xP",
        "outputId": "98682f7d-0f5b-4c84-d66e-4bd47cc154f8"
      },
      "execution_count": 46,
      "outputs": [
        {
          "output_type": "stream",
          "name": "stdout",
          "text": [
            "['red', 'green', 'blue', 'orange', 'purple']\n",
            "['red', 'green', 'blue', 'orange', 'purple', 'pink']\n",
            "['red', 'green', 'blue', 'gray', 'orange', 'purple', 'pink']\n"
          ]
        }
      ]
    },
    {
      "cell_type": "markdown",
      "source": [
        "### 리스트에서 요소 삭제하기"
      ],
      "metadata": {
        "id": "yaQJrK1nXSQy"
      }
    },
    {
      "cell_type": "code",
      "source": [
        "colors = ['red','green','blue','orange','purple']\n",
        "print(colors)\n",
        "\n",
        "# 리스트에서 요소 삭제하기 : remove(값)\n",
        "colors.remove('orange')\n",
        "print(colors)\n",
        "\n",
        "# 맨 뒤 요소 삭제하기 : pop()\n",
        "colors.pop()\n",
        "print(colors)\n",
        "\n",
        "# 인덱스 위치에 해당하는 값을 삭제하기 : del()\n",
        "del(colors[1])\n",
        "print(colors)"
      ],
      "metadata": {
        "colab": {
          "base_uri": "https://localhost:8080/"
        },
        "id": "3TPZbpr-XR_R",
        "outputId": "94822f88-fb7e-4e9d-d22e-b4d74386ef1a"
      },
      "execution_count": 55,
      "outputs": [
        {
          "output_type": "stream",
          "name": "stdout",
          "text": [
            "['red', 'green', 'blue', 'orange', 'purple']\n",
            "['red', 'green', 'blue', 'purple']\n",
            "['red', 'green', 'blue']\n",
            "['red', 'blue']\n"
          ]
        }
      ]
    },
    {
      "cell_type": "markdown",
      "source": [
        "### 리스트 요소 값 변경하기"
      ],
      "metadata": {
        "id": "CEaRupdsX_jJ"
      }
    },
    {
      "cell_type": "code",
      "source": [
        "colors = ['red','green','blue','orange','purple']\n",
        "print(colors)\n",
        "\n",
        "# 인덱스 위치에 해당하는 값을 변경하기(대체하기)\n",
        "colors[2] = 'deepblue'\n",
        "print(colors)\n",
        "\n",
        "colors[2:] = 'deepblue'           # 조심 ---> 반복문으로 해결\n",
        "print(colors)"
      ],
      "metadata": {
        "colab": {
          "base_uri": "https://localhost:8080/"
        },
        "id": "PWK7YlBcYCCE",
        "outputId": "dbccfb64-8b42-480c-9316-49d669b20857"
      },
      "execution_count": 52,
      "outputs": [
        {
          "output_type": "stream",
          "name": "stdout",
          "text": [
            "['red', 'green', 'blue', 'orange', 'purple']\n",
            "['red', 'green', 'deepblue', 'orange', 'purple']\n",
            "['red', 'green', 'd', 'e', 'e', 'p', 'b', 'l', 'u', 'e']\n"
          ]
        }
      ]
    },
    {
      "cell_type": "markdown",
      "source": [
        "### 리스트 정렬하기"
      ],
      "metadata": {
        "id": "2NrG_954Y-yk"
      }
    },
    {
      "cell_type": "code",
      "source": [
        "colors = ['red','green','blue','orange','purple']\n",
        "print(colors)\n",
        "\n",
        "# 리스트 정렬하기\n",
        "colors.sort()   # reverse=False (디폴트값)\n",
        "print(colors)\n",
        "\n",
        "colors.sort(reverse=True)\n",
        "print(colors)"
      ],
      "metadata": {
        "colab": {
          "base_uri": "https://localhost:8080/"
        },
        "id": "9i_3Uc1uY3n6",
        "outputId": "d088ff6f-ad6e-4f73-a336-2bd79e1745fc"
      },
      "execution_count": 60,
      "outputs": [
        {
          "output_type": "stream",
          "name": "stdout",
          "text": [
            "['red', 'green', 'blue', 'orange', 'purple']\n",
            "['blue', 'green', 'orange', 'purple', 'red']\n",
            "['red', 'purple', 'orange', 'green', 'blue']\n"
          ]
        }
      ]
    },
    {
      "cell_type": "code",
      "source": [
        "colors = ['red','green','blue','orange','purple']\n",
        "\n",
        "# 파이썬 기본함\n",
        "sorted(colors)          # 문자열, 리스트 정렬하기"
      ],
      "metadata": {
        "colab": {
          "base_uri": "https://localhost:8080/"
        },
        "id": "EZ9PQnA1aLVh",
        "outputId": "cb45f381-75b1-40cb-c951-73e7cfed51e3"
      },
      "execution_count": 61,
      "outputs": [
        {
          "output_type": "execute_result",
          "data": {
            "text/plain": [
              "['blue', 'green', 'orange', 'purple', 'red']"
            ]
          },
          "metadata": {},
          "execution_count": 61
        }
      ]
    },
    {
      "cell_type": "markdown",
      "source": [
        "### 다차원 리스트 요소 접근"
      ],
      "metadata": {
        "id": "3UDGxouXbREN"
      }
    },
    {
      "cell_type": "code",
      "source": [
        "numbers = [[1,2,3],[4,5,[6,7,8]],9,10]\n",
        "print(len(numbers))\n",
        "print(len(numbers[0]))        # [1,2,3]\n",
        "print(len(numbers[1]))        # [4,5,[6,7,8]]\n",
        "\n",
        "print(numbers[0][1])          # 2에 대한 접근\n",
        "print(numbers[1][2][1])       # 7에 대한 접근"
      ],
      "metadata": {
        "colab": {
          "base_uri": "https://localhost:8080/"
        },
        "id": "937W489ZbWFS",
        "outputId": "681e115e-b583-429e-ce55-4e67c2eb641c"
      },
      "execution_count": 68,
      "outputs": [
        {
          "output_type": "stream",
          "name": "stdout",
          "text": [
            "4\n",
            "3\n",
            "3\n",
            "2\n",
            "7\n"
          ]
        }
      ]
    },
    {
      "cell_type": "markdown",
      "source": [
        "### [실습문제] 3행 4열 리스트 출력하기: 중첩 for문 (for + for)"
      ],
      "metadata": {
        "id": "utsDNWcxfQs_"
      }
    },
    {
      "cell_type": "code",
      "source": [
        "# my_list = [ i for i in range(10) ]\n",
        "# my_list = list(range(10))               # 리스트 comprehension\n",
        "\n",
        "# 빈 방(2차원 리스트)를 준비한다.\n",
        "my_list = [ [] for i in range(3) ]\n",
        "print(my_list)\n",
        "\n",
        "# 각 방(2차원 리스트)에 값을 추가한다.\n",
        "value = 1\n",
        "for i in range(3):\n",
        "  for _ in range(4):\n",
        "    my_list[i].append(f'{value:>2}')\n",
        "    value += 1\n",
        "print(my_list)\n",
        "\n",
        "for i in range(3):\n",
        "  print(' '.join(my_list[i]))    # 1 2 3 4"
      ],
      "metadata": {
        "colab": {
          "base_uri": "https://localhost:8080/"
        },
        "id": "eNkn4xTcddZU",
        "outputId": "de7cfec0-4018-4241-fdd9-236d4e18afb7"
      },
      "execution_count": 99,
      "outputs": [
        {
          "output_type": "stream",
          "name": "stdout",
          "text": [
            "[[], [], []]\n",
            "[[' 1', ' 2', ' 3', ' 4'], [' 5', ' 6', ' 7', ' 8'], [' 9', '10', '11', '12']]\n",
            " 1  2  3  4\n",
            " 5  6  7  8\n",
            " 9 10 11 12\n"
          ]
        }
      ]
    },
    {
      "cell_type": "code",
      "source": [
        "value = 1\n",
        "mylist = []\n",
        "for i in range(5):\n",
        "    mylist.append([])\n",
        "    for _ in range(6):\n",
        "        mylist[i].append(f'{value:>2}')\n",
        "        value += 1\n",
        "print(mylist)\n",
        "\n",
        "for i in range(4):\n",
        "    print(\" \".join(mylist[i]))  # 1 2 3 4"
      ],
      "metadata": {
        "colab": {
          "base_uri": "https://localhost:8080/"
        },
        "id": "mw46ph4NkSO1",
        "outputId": "d07d307f-a827-49f7-c645-f73e1a3904f6"
      },
      "execution_count": 100,
      "outputs": [
        {
          "output_type": "stream",
          "name": "stdout",
          "text": [
            "[[' 1', ' 2', ' 3', ' 4', ' 5', ' 6'], [' 7', ' 8', ' 9', '10', '11', '12'], ['13', '14', '15', '16', '17', '18'], ['19', '20', '21', '22', '23', '24'], ['25', '26', '27', '28', '29', '30']]\n",
            " 1  2  3  4  5  6\n",
            " 7  8  9 10 11 12\n",
            "13 14 15 16 17 18\n",
            "19 20 21 22 23 24\n"
          ]
        }
      ]
    },
    {
      "cell_type": "code",
      "source": [
        "def func_sum(x,y):\n",
        "  return 2*x + y\n",
        "\n",
        "func_sum(5,10)    # 인자가 튜플타입"
      ],
      "metadata": {
        "colab": {
          "base_uri": "https://localhost:8080/"
        },
        "id": "iz720EhUlc6y",
        "outputId": "26589a8e-183f-4ef4-e55f-0811735481a0"
      },
      "execution_count": 102,
      "outputs": [
        {
          "output_type": "execute_result",
          "data": {
            "text/plain": [
              "20"
            ]
          },
          "metadata": {},
          "execution_count": 102
        }
      ]
    }
  ]
}