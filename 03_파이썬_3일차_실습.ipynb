{
  "nbformat": 4,
  "nbformat_minor": 0,
  "metadata": {
    "colab": {
      "provenance": [],
      "authorship_tag": "ABX9TyN+sEPtv+HM4wI7SjP2gsM8",
      "include_colab_link": true
    },
    "kernelspec": {
      "name": "python3",
      "display_name": "Python 3"
    },
    "language_info": {
      "name": "python"
    }
  },
  "cells": [
    {
      "cell_type": "markdown",
      "metadata": {
        "id": "view-in-github",
        "colab_type": "text"
      },
      "source": [
        "<a href=\"https://colab.research.google.com/github/ljw08/bioinfomatics/blob/main/03_%ED%8C%8C%EC%9D%B4%EC%8D%AC_3%EC%9D%BC%EC%B0%A8_%EC%8B%A4%EC%8A%B5.ipynb\" target=\"_parent\"><img src=\"https://colab.research.google.com/assets/colab-badge.svg\" alt=\"Open In Colab\"/></a>"
      ]
    },
    {
      "cell_type": "markdown",
      "source": [
        "# for문"
      ],
      "metadata": {
        "id": "9R14PPS-9qgn"
      }
    },
    {
      "cell_type": "markdown",
      "source": [
        "### range() 함수 사용"
      ],
      "metadata": {
        "id": "r6oULzrj9473"
      }
    },
    {
      "cell_type": "code",
      "execution_count": null,
      "metadata": {
        "colab": {
          "base_uri": "https://localhost:8080/"
        },
        "id": "Sj67aIKSxwH1",
        "outputId": "aef06efb-d83f-4950-87bc-7085e4280754"
      },
      "outputs": [
        {
          "output_type": "stream",
          "name": "stdout",
          "text": [
            "2 안녕하세요. 파이썬 수업시간입니다.\n",
            "5 안녕하세요. 파이썬 수업시간입니다.\n",
            "8 안녕하세요. 파이썬 수업시간입니다.\n"
          ]
        }
      ],
      "source": [
        "# range() 함수 사용\n",
        "\n",
        "# for i in range(0,10,1):\n",
        "# for i in range(0,10):\n",
        "# for i in range(10):\n",
        "# for i in range(0,10,2):\n",
        "for i in range(2,10,3):\n",
        "  print(f\"{i} 안녕하세요. 파이썬 수업시간입니다.\")"
      ]
    },
    {
      "cell_type": "code",
      "source": [
        "# range() 함수를 이용해 정수 나열 리스트 만들기\n",
        "\n",
        "print(range(2,10,3))\n",
        "print(list(range(2,10,3)))"
      ],
      "metadata": {
        "colab": {
          "base_uri": "https://localhost:8080/"
        },
        "id": "eQeLPqpR_AeN",
        "outputId": "83b6c2f2-c91b-4a02-8fe5-bd8bcdef3093"
      },
      "execution_count": null,
      "outputs": [
        {
          "output_type": "stream",
          "name": "stdout",
          "text": [
            "range(2, 10, 3)\n",
            "[2, 5, 8]\n"
          ]
        }
      ]
    },
    {
      "cell_type": "markdown",
      "source": [
        "### 리스트 사용해서 반복하기"
      ],
      "metadata": {
        "id": "KW_K4EWS_jMP"
      }
    },
    {
      "cell_type": "code",
      "source": [
        "for i in [1,2,'3','4444',[3,4,5]]:\n",
        "  print(f\"{i} 안녕하세요. 파이썬 수업시간입니다.\")"
      ],
      "metadata": {
        "colab": {
          "base_uri": "https://localhost:8080/"
        },
        "id": "cmtUKP5-_lDv",
        "outputId": "95ad9c9d-c05a-44a1-ed5f-6e6344097381"
      },
      "execution_count": null,
      "outputs": [
        {
          "output_type": "stream",
          "name": "stdout",
          "text": [
            "1 안녕하세요. 파이썬 수업시간입니다.\n",
            "2 안녕하세요. 파이썬 수업시간입니다.\n",
            "3 안녕하세요. 파이썬 수업시간입니다.\n",
            "4444 안녕하세요. 파이썬 수업시간입니다.\n",
            "[3, 4, 5] 안녕하세요. 파이썬 수업시간입니다.\n"
          ]
        }
      ]
    },
    {
      "cell_type": "markdown",
      "source": [
        "### 문자열을 이용해서 반복하기"
      ],
      "metadata": {
        "id": "_J5Q5u36AFo7"
      }
    },
    {
      "cell_type": "code",
      "source": [
        "for i in 'student':\n",
        "    print(f\"{i} 안녕하세요. 파이썬 수업시간입니다.\")\n",
        "\n",
        "for i in '안녕하세요.':\n",
        "    print(f\"{i} 안녕하세요. 파이썬 수업시간입니다.\")"
      ],
      "metadata": {
        "colab": {
          "base_uri": "https://localhost:8080/"
        },
        "id": "HjwLrgIOALoi",
        "outputId": "a15ce796-9b54-4b3e-fcda-aa0c82fda181"
      },
      "execution_count": null,
      "outputs": [
        {
          "output_type": "stream",
          "name": "stdout",
          "text": [
            "s 안녕하세요. 파이썬 수업시간입니다.\n",
            "t 안녕하세요. 파이썬 수업시간입니다.\n",
            "u 안녕하세요. 파이썬 수업시간입니다.\n",
            "d 안녕하세요. 파이썬 수업시간입니다.\n",
            "e 안녕하세요. 파이썬 수업시간입니다.\n",
            "n 안녕하세요. 파이썬 수업시간입니다.\n",
            "t 안녕하세요. 파이썬 수업시간입니다.\n",
            "안 안녕하세요. 파이썬 수업시간입니다.\n",
            "녕 안녕하세요. 파이썬 수업시간입니다.\n",
            "하 안녕하세요. 파이썬 수업시간입니다.\n",
            "세 안녕하세요. 파이썬 수업시간입니다.\n",
            "요 안녕하세요. 파이썬 수업시간입니다.\n",
            ". 안녕하세요. 파이썬 수업시간입니다.\n"
          ]
        }
      ]
    },
    {
      "cell_type": "markdown",
      "source": [
        "### 변수를 사용하지 않으려면 _사용"
      ],
      "metadata": {
        "id": "gSejjjiIAdu8"
      }
    },
    {
      "cell_type": "code",
      "source": [
        "for _ in range(3):\n",
        "  print(\"안녕하세요. 파이썬 수업시간입니다.\")"
      ],
      "metadata": {
        "colab": {
          "base_uri": "https://localhost:8080/"
        },
        "id": "MwuCUf4-AjMQ",
        "outputId": "44c3235c-4a64-4d3c-e95b-898eb1bf7392"
      },
      "execution_count": null,
      "outputs": [
        {
          "output_type": "stream",
          "name": "stdout",
          "text": [
            "안녕하세요. 파이썬 수업시간입니다.\n",
            "안녕하세요. 파이썬 수업시간입니다.\n",
            "안녕하세요. 파이썬 수업시간입니다.\n"
          ]
        }
      ]
    },
    {
      "cell_type": "markdown",
      "source": [
        "# 합계 구하기"
      ],
      "metadata": {
        "id": "e0pxY_CCFu33"
      }
    },
    {
      "cell_type": "code",
      "source": [
        "s=0\n",
        "\n",
        "for i in range(1,11):\n",
        "  s += i\n",
        "print(f'1부터 10까지 합계는 {s}입니다.')"
      ],
      "metadata": {
        "colab": {
          "base_uri": "https://localhost:8080/"
        },
        "id": "Jv1R-V7hA1BC",
        "outputId": "b146c12c-b369-4d42-d7e4-0acf61f9f7c1"
      },
      "execution_count": null,
      "outputs": [
        {
          "output_type": "stream",
          "name": "stdout",
          "text": [
            "1부터 10까지 합계는 55입니다.\n"
          ]
        }
      ]
    },
    {
      "cell_type": "markdown",
      "source": [
        "### 1~100까지 합 구하기"
      ],
      "metadata": {
        "id": "yQd_Ko7yBY6i"
      }
    },
    {
      "cell_type": "code",
      "source": [
        "s = 0\n",
        "for i in range(1,101,1):\n",
        "  s += i\n",
        "\n",
        "print(f'1부터 100까지 정수의 합은 {s}입니다.')"
      ],
      "metadata": {
        "colab": {
          "base_uri": "https://localhost:8080/"
        },
        "id": "_9JuDbvsBWpW",
        "outputId": "bec54047-29d1-4c5e-e312-1334b25eb877"
      },
      "execution_count": null,
      "outputs": [
        {
          "output_type": "stream",
          "name": "stdout",
          "text": [
            "1부터 100까지 정수의 합은 5050입니다.\n"
          ]
        }
      ]
    },
    {
      "cell_type": "code",
      "source": [
        "# sum() 함수 사용해서 합 구하기\n",
        "\n",
        "del sum\n",
        "sum( list( range(1,101,1) ) )"
      ],
      "metadata": {
        "colab": {
          "base_uri": "https://localhost:8080/"
        },
        "id": "y_oplh8UBt4Q",
        "outputId": "4d794639-c90b-4cc1-a015-bc0ae4e0450d"
      },
      "execution_count": null,
      "outputs": [
        {
          "output_type": "execute_result",
          "data": {
            "text/plain": [
              "5050"
            ]
          },
          "metadata": {},
          "execution_count": 34
        }
      ]
    },
    {
      "cell_type": "code",
      "source": [
        "a = [30,22,65,21,45,65,32,12,45,78]\n",
        "\n",
        "sum1 = 0\n",
        "for i in a:\n",
        "  sum1 += i\n",
        "print(f'리스트 {a}의 모든 요소의 합은 {sum1}')"
      ],
      "metadata": {
        "colab": {
          "base_uri": "https://localhost:8080/"
        },
        "id": "3CQH_q7RF0dj",
        "outputId": "4fe1dc29-bed5-45dd-d0ba-8ec9e2b36982"
      },
      "execution_count": null,
      "outputs": [
        {
          "output_type": "stream",
          "name": "stdout",
          "text": [
            "리스트 [30, 22, 65, 21, 45, 65, 32, 12, 45, 78]의 모든 요소의 합은 415\n"
          ]
        }
      ]
    },
    {
      "cell_type": "code",
      "source": [
        "# sum() : 합계 / len() : 길이, 요소의 개수\n",
        "\n",
        "print(f'리스트 {a}의 모든 요소의 합은 {sum(a)}')\n",
        "print(f'리스트 {a}의 모든 요소의 합은 {len(a)}')"
      ],
      "metadata": {
        "colab": {
          "base_uri": "https://localhost:8080/"
        },
        "id": "xgeyJGdlHbPL",
        "outputId": "f7f3fa81-ca03-4613-d1b7-afeec15f6461"
      },
      "execution_count": null,
      "outputs": [
        {
          "output_type": "stream",
          "name": "stdout",
          "text": [
            "리스트 [30, 22, 65, 21, 45, 65, 32, 12, 45, 78]의 모든 요소의 합은 415\n",
            "리스트 [30, 22, 65, 21, 45, 65, 32, 12, 45, 78]의 모든 요소의 합은 10\n"
          ]
        }
      ]
    },
    {
      "cell_type": "code",
      "source": [
        "# max() / min()\n",
        "\n",
        "print(f'리스트 {a}의 모든 요소 중 제일 큰 수 {max(a)}')\n",
        "print(f'리스트 {a}의 모든 요소 중 제일 작은 수 {min(a)}')"
      ],
      "metadata": {
        "colab": {
          "base_uri": "https://localhost:8080/"
        },
        "id": "DJ1v1hhjGc_F",
        "outputId": "9ec67309-e24f-47ad-9e23-56e51eec7133"
      },
      "execution_count": null,
      "outputs": [
        {
          "output_type": "stream",
          "name": "stdout",
          "text": [
            "리스트 [30, 22, 65, 21, 45, 65, 32, 12, 45, 78]의 모든 요소 중 제일 큰 수 78\n",
            "리스트 [30, 22, 65, 21, 45, 65, 32, 12, 45, 78]의 모든 요소 중 제일 작은 수 12\n"
          ]
        }
      ]
    },
    {
      "cell_type": "code",
      "source": [
        "# 평균 구하기\n",
        "\n",
        "sum(a) / len(a)\n",
        "print(f'리스트 {a}의 평균은 {sum(a) / len(a)}')"
      ],
      "metadata": {
        "colab": {
          "base_uri": "https://localhost:8080/"
        },
        "id": "GxJxioqIHPMq",
        "outputId": "0dab33fb-5334-41a1-eed7-20b1bfd14bc5"
      },
      "execution_count": null,
      "outputs": [
        {
          "output_type": "stream",
          "name": "stdout",
          "text": [
            "리스트 [30, 22, 65, 21, 45, 65, 32, 12, 45, 78]의 평균은 41.5\n"
          ]
        }
      ]
    },
    {
      "cell_type": "code",
      "source": [
        "# 숫자 입력을 받아 합계 구하기\n",
        "\n",
        "n = int(input('합계를 구할 숫자 입력: '))\n",
        "print(f\"1부터 {n}까지의 합은 {sum(list(range(1,n+1)))}\")"
      ],
      "metadata": {
        "colab": {
          "base_uri": "https://localhost:8080/"
        },
        "id": "D8ZIuMQJH2tg",
        "outputId": "e4c8563c-97b3-4b73-8002-cbd7ca6bd3cd"
      },
      "execution_count": null,
      "outputs": [
        {
          "output_type": "stream",
          "name": "stdout",
          "text": [
            "합계를 구할 숫자 입력: 100\n",
            "1부터 100까지의 합은 5050\n"
          ]
        }
      ]
    },
    {
      "cell_type": "code",
      "source": [
        "# 짝수 제외 합계 구하기\n",
        "\n",
        "n = int(input('합계를 구할 숫자 입력: '))\n",
        "s1 = 0\n",
        "\n",
        "for i in range(1,n+1,2):\n",
        "  s1 += n\n",
        "print(f'1~{n}까지 짝수를 제외한 합은: {s1}')"
      ],
      "metadata": {
        "colab": {
          "base_uri": "https://localhost:8080/"
        },
        "id": "Bv9EcktcJddL",
        "outputId": "9f7e2d4f-2f14-41c5-fe1f-cd17c0eaad83"
      },
      "execution_count": null,
      "outputs": [
        {
          "output_type": "stream",
          "name": "stdout",
          "text": [
            "합계를 구할 숫자 입력: 10\n",
            "1~10까지 짝수를 제외한 합은: 50\n"
          ]
        }
      ]
    },
    {
      "cell_type": "code",
      "source": [
        "# 괄호 짝 맞추기\n",
        "\n",
        "a_list = list(input('괄호: '))\n",
        "print(a_list)\n",
        "t = 0\n",
        "\n",
        "for i in range(1, len(a_list)+1):\n",
        "  if t >= 0:\n",
        "    if a_list[i-1] == '(':\n",
        "      t += 1\n",
        "    elif a_list[i-1] == ')':\n",
        "      t -= 1\n",
        "\n",
        "if t == 0:\n",
        "  print('결과: True')\n",
        "else:\n",
        "  print('결과: False')"
      ],
      "metadata": {
        "colab": {
          "base_uri": "https://localhost:8080/"
        },
        "id": "1rJKIpR0NYfF",
        "outputId": "3554e279-4e4e-43c1-b5cb-3a34b00b76ce"
      },
      "execution_count": null,
      "outputs": [
        {
          "output_type": "stream",
          "name": "stdout",
          "text": [
            "괄호: )\n",
            "[')']\n",
            "결과: False\n"
          ]
        }
      ]
    },
    {
      "cell_type": "code",
      "source": [
        "# 구구단 출력하기\n",
        "\n",
        "n = int(input('몇단을 출력할까요?: '))\n",
        "\n",
        "for i in range(1,10):\n",
        "  print(f'{n} x {i} = {n*i:>2}')"
      ],
      "metadata": {
        "colab": {
          "base_uri": "https://localhost:8080/"
        },
        "id": "ZoIkVvXwUAJR",
        "outputId": "8ffc1340-31a4-4d0f-a066-4c445c3f0874"
      },
      "execution_count": null,
      "outputs": [
        {
          "output_type": "stream",
          "name": "stdout",
          "text": [
            "몇단을 출력할까요?: 5\n",
            "5 x 1 =  5\n",
            "5 x 2 = 10\n",
            "5 x 3 = 15\n",
            "5 x 4 = 20\n",
            "5 x 5 = 25\n",
            "5 x 6 = 30\n",
            "5 x 7 = 35\n",
            "5 x 8 = 40\n",
            "5 x 9 = 45\n"
          ]
        }
      ]
    },
    {
      "cell_type": "code",
      "source": [
        "for i in range(2,10):\n",
        "  print(f'# {i}단   ', end='')\n",
        "# print() # '\\n'\n",
        "print('\\n','-'*70)\n",
        "for i in range(1,10):\n",
        "  for k in range(2,10):\n",
        "    print(f'{k}x{i}={i*k:>2}', end=', ')\n",
        "  print()                                               # print() 엔터 효과"
      ],
      "metadata": {
        "colab": {
          "base_uri": "https://localhost:8080/"
        },
        "id": "E3WIScpWVKpA",
        "outputId": "5c9433ed-8e57-4356-92d9-5ea1a8d4cb0b"
      },
      "execution_count": null,
      "outputs": [
        {
          "output_type": "stream",
          "name": "stdout",
          "text": [
            "# 2단   # 3단   # 4단   # 5단   # 6단   # 7단   # 8단   # 9단   \n",
            " ----------------------------------------------------------------------\n",
            "2x1= 2, 3x1= 3, 4x1= 4, 5x1= 5, 6x1= 6, 7x1= 7, 8x1= 8, 9x1= 9, \n",
            "2x2= 4, 3x2= 6, 4x2= 8, 5x2=10, 6x2=12, 7x2=14, 8x2=16, 9x2=18, \n",
            "2x3= 6, 3x3= 9, 4x3=12, 5x3=15, 6x3=18, 7x3=21, 8x3=24, 9x3=27, \n",
            "2x4= 8, 3x4=12, 4x4=16, 5x4=20, 6x4=24, 7x4=28, 8x4=32, 9x4=36, \n",
            "2x5=10, 3x5=15, 4x5=20, 5x5=25, 6x5=30, 7x5=35, 8x5=40, 9x5=45, \n",
            "2x6=12, 3x6=18, 4x6=24, 5x6=30, 6x6=36, 7x6=42, 8x6=48, 9x6=54, \n",
            "2x7=14, 3x7=21, 4x7=28, 5x7=35, 6x7=42, 7x7=49, 8x7=56, 9x7=63, \n",
            "2x8=16, 3x8=24, 4x8=32, 5x8=40, 6x8=48, 7x8=56, 8x8=64, 9x8=72, \n",
            "2x9=18, 3x9=27, 4x9=36, 5x9=45, 6x9=54, 7x9=63, 8x9=72, 9x9=81, \n"
          ]
        }
      ]
    },
    {
      "cell_type": "code",
      "source": [
        "help(print)"
      ],
      "metadata": {
        "id": "ZXaQ142MbmAL",
        "outputId": "c0bd7652-0120-4e0b-9bf8-786eea6d07ba",
        "colab": {
          "base_uri": "https://localhost:8080/"
        }
      },
      "execution_count": null,
      "outputs": [
        {
          "output_type": "stream",
          "name": "stdout",
          "text": [
            "Help on built-in function print in module builtins:\n",
            "\n",
            "print(...)\n",
            "    print(value, ..., sep=' ', end='\\n', file=sys.stdout, flush=False)\n",
            "    \n",
            "    Prints the values to a stream, or to sys.stdout by default.\n",
            "    Optional keyword arguments:\n",
            "    file:  a file-like object (stream); defaults to the current sys.stdout.\n",
            "    sep:   string inserted between values, default a space.\n",
            "    end:   string appended after the last value, default a newline.\n",
            "    flush: whether to forcibly flush the stream.\n",
            "\n"
          ]
        }
      ]
    },
    {
      "cell_type": "markdown",
      "source": [
        "### 난수 (Random Number)"
      ],
      "metadata": {
        "id": "uSK_aexrtroD"
      }
    },
    {
      "cell_type": "code",
      "source": [
        "import random\n",
        "\n",
        "# 임의의 정수\n",
        "print(random.randint(1,10))          # 1~10 까지 정수 중 하나 선택\n",
        "print(random.randrange(1,11,1))      # 1~11 미만  정수 중 하나 선택\n",
        "\n",
        "# 임의의 실수\n",
        "print(random.random())               # 0~1 사이의 임의의 실수\n",
        "print(random.uniform(0.5,1))         # start~end 사이의 임의의 실수\n",
        "\n",
        "# 리스트 섞기\n",
        "a = [1,2,3,4,5,6,7,8,9,10]\n",
        "print(a)\n",
        "random.shuffle(a)\n",
        "print(a)\n",
        "\n",
        "# 리스트 요소 중에 하나 선택하기\n",
        "print(random.choice(a))\n",
        "\n",
        "# 리스트 요소 중에 여러 개 선택하기\n",
        "print(random.sample(a,3))\n",
        "print(f'로또번호 정렬해서 출력: ',sorted(random.sample(range(1,46),6)))"
      ],
      "metadata": {
        "colab": {
          "base_uri": "https://localhost:8080/"
        },
        "id": "QnbbCpgWtqxD",
        "outputId": "6eb8c764-7cf9-474b-93f0-976b00eb00d6"
      },
      "execution_count": 45,
      "outputs": [
        {
          "output_type": "stream",
          "name": "stdout",
          "text": [
            "7\n",
            "9\n",
            "0.5219501115727306\n",
            "0.5909987345392441\n",
            "[1, 2, 3, 4, 5, 6, 7, 8, 9, 10]\n",
            "[6, 8, 4, 9, 2, 3, 7, 5, 10, 1]\n",
            "2\n",
            "[8, 5, 4]\n",
            "로또번호 정렬해서 출력:  [1, 14, 23, 38, 41, 42]\n"
          ]
        }
      ]
    },
    {
      "cell_type": "code",
      "source": [
        "import random\n",
        "\n",
        "print('주사위 던지기 게임입니다.')\n",
        "for i in range(1,6):\n",
        "  print('-'*2,i,'번째 시도','-'*30)\n",
        "  a=random.randint(1,6)\n",
        "  b=random.randint(1,6)\n",
        "  print(f'주사위 결과: 첫번째[{a}] 두번째[{b}]')\n",
        "  if a > b:\n",
        "    print('첫번째 주사위가 이겼습니다.')\n",
        "  elif a == b:\n",
        "    print('비겼습니다.')\n",
        "  else:\n",
        "    print('두번째 주사위가 이겼습니다.')\n",
        "  print()"
      ],
      "metadata": {
        "colab": {
          "base_uri": "https://localhost:8080/"
        },
        "id": "xc-l6fa8yba2",
        "outputId": "02023ec5-7295-4e0e-9350-d91cfe1c2e47"
      },
      "execution_count": 55,
      "outputs": [
        {
          "output_type": "stream",
          "name": "stdout",
          "text": [
            "주사위 던지기 게임입니다.\n",
            "-- 1 번째 시도 ------------------------------\n",
            "주사위 결과: 첫번째[2] 두번째[1]\n",
            "첫번째 주사위가 이겼습니다.\n",
            "\n",
            "-- 2 번째 시도 ------------------------------\n",
            "주사위 결과: 첫번째[5] 두번째[6]\n",
            "두번째 주사위가 이겼습니다.\n",
            "\n",
            "-- 3 번째 시도 ------------------------------\n",
            "주사위 결과: 첫번째[5] 두번째[2]\n",
            "첫번째 주사위가 이겼습니다.\n",
            "\n",
            "-- 4 번째 시도 ------------------------------\n",
            "주사위 결과: 첫번째[4] 두번째[4]\n",
            "비겼습니다.\n",
            "\n",
            "-- 5 번째 시도 ------------------------------\n",
            "주사위 결과: 첫번째[1] 두번째[5]\n",
            "두번째 주사위가 이겼습니다.\n",
            "\n"
          ]
        }
      ]
    },
    {
      "cell_type": "code",
      "source": [
        "# 주사위 n번 돌려서 카운팅하는 프로그램\n",
        "\n",
        "import random\n",
        "\n",
        "dice = [1,2,3,4,5,6]\n",
        "list_1 = []\n",
        "n1,n2,n3,n4,n5,n6 = 0,0,0,0,0,0\n",
        "\n",
        "for i in range(1,101):\n",
        "  list_1.append(random.choice(dice))\n",
        "# print(list_1)\n",
        "\n",
        "for k in range(100):\n",
        "  if list_1[k] == 1:\n",
        "    n1 += 1\n",
        "  elif list_1[k] == 2:\n",
        "    n2 += 1\n",
        "  elif list_1[k] == 3:\n",
        "    n3 += 1\n",
        "  elif list_1[k] == 4:\n",
        "    n4 += 1\n",
        "  elif list_1[k] == 5:\n",
        "    n5 += 1\n",
        "  elif list_1[k] == 6:\n",
        "    n6 += 1\n",
        "\n",
        "if max(n1,n2,n3,n4,n5,n6) == n1:\n",
        "  num_max=1\n",
        "elif max(n1,n2,n3,n4,n5,n6) == n2:\n",
        "  num_max=2\n",
        "elif max(n1,n2,n3,n4,n5,n6) == n3:\n",
        "  num_max=3\n",
        "elif max(n1,n2,n3,n4,n5,n6) == n4:\n",
        "  num_max=4\n",
        "elif max(n1,n2,n3,n4,n5,n6) == n5:\n",
        "  num_max=5\n",
        "else:\n",
        "  num_max=6\n",
        "\n",
        "print(f'''주사위 숫자별 개수: D1[{n1}] D2[{n2}] D3[{n3}] D4[{n4}] D5[{n5}] D6[{n6}]\n",
        "가장 많이 나온 주사위 숫자: {num_max}  횟수: {max(n1,n2,n3,n4,n5,n6)}''')"
      ],
      "metadata": {
        "colab": {
          "base_uri": "https://localhost:8080/"
        },
        "id": "nIGlAfVF3nex",
        "outputId": "de4512e3-93ae-4a0d-bdb0-01fbcd49a2ef"
      },
      "execution_count": 84,
      "outputs": [
        {
          "output_type": "stream",
          "name": "stdout",
          "text": [
            "주사위 숫자별 개수: D1[21] D2[16] D3[19] D4[14] D5[14] D6[16]\n",
            "가장 많이 나온 주사위 숫자: 1  횟수: 21\n"
          ]
        }
      ]
    },
    {
      "cell_type": "code",
      "source": [
        "# 주사위 n번 돌려서 카운팅하는 프로그램 - 중복처리x\n",
        "\n",
        "import random\n",
        "\n",
        "dice = [0,0,0,0,0,0]\n",
        "for i in range(100):\n",
        "  num = random.randint(1, 6)\n",
        "  dice[num-1] = dice[num-1] + 1\n",
        "print(f'{i+1}회 시도 - 나온 수({num}), 주사위:{dice}')\n",
        "print(f'가장 큰 횟수: {max(dice)}의 주사위 눈금은: {dice.index(max(dice))+1}')"
      ],
      "metadata": {
        "colab": {
          "base_uri": "https://localhost:8080/"
        },
        "id": "w3dliG3B9FRH",
        "outputId": "8f2a3f15-ceab-420d-9f0d-7a4fc75972cb"
      },
      "execution_count": 85,
      "outputs": [
        {
          "output_type": "stream",
          "name": "stdout",
          "text": [
            "100회 시도 - 나온 수(4), 주사위:[19, 7, 19, 18, 20, 17]\n",
            "가장 큰 횟수: 20의 주사위 눈금은: 5\n"
          ]
        }
      ]
    },
    {
      "cell_type": "code",
      "source": [
        "i=0\n",
        "\n",
        "while i < 10:\n",
        "  i += 1\n",
        "  print(f'나무를 {i}번 찍었습니다.')\n",
        "print('나무 넘어 갑니다~')"
      ],
      "metadata": {
        "colab": {
          "base_uri": "https://localhost:8080/"
        },
        "id": "ZJgE23xgHzek",
        "outputId": "f609ba90-fb82-4f62-87ac-5bb0b044afab"
      },
      "execution_count": 93,
      "outputs": [
        {
          "output_type": "stream",
          "name": "stdout",
          "text": [
            "나무를 1번 찍었습니다.\n",
            "나무를 2번 찍었습니다.\n",
            "나무를 3번 찍었습니다.\n",
            "나무를 4번 찍었습니다.\n",
            "나무를 5번 찍었습니다.\n",
            "나무를 6번 찍었습니다.\n",
            "나무를 7번 찍었습니다.\n",
            "나무를 8번 찍었습니다.\n",
            "나무를 9번 찍었습니다.\n",
            "나무를 10번 찍었습니다.\n",
            "나무 넘어 갑니다~\n"
          ]
        }
      ]
    },
    {
      "cell_type": "code",
      "source": [
        "prompt = \"\"\"\n",
        "    1.Add   2.Del   3.Modify    4.Quit\n",
        "\n",
        "    Enter number: \"\"\"\n",
        "\n",
        "while True:\n",
        "  n = input(prompt)\n",
        "  if n == '4': break\n",
        "print('program finished')"
      ],
      "metadata": {
        "colab": {
          "base_uri": "https://localhost:8080/"
        },
        "id": "WFt95SD_J6gh",
        "outputId": "8b758d7c-3b41-44da-81f2-25ccd0eeea2a"
      },
      "execution_count": 103,
      "outputs": [
        {
          "output_type": "stream",
          "name": "stdout",
          "text": [
            "\n",
            "    1.Add   2.Del   3.Modify    4.Quit\n",
            "\n",
            "    Enter number: 3\n",
            "\n",
            "    1.Add   2.Del   3.Modify    4.Quit\n",
            "\n",
            "    Enter number: 4\n",
            "program finished\n"
          ]
        }
      ]
    },
    {
      "cell_type": "code",
      "source": [
        "coffee1_price = 2500\n",
        "coffee2_price = 3000\n",
        "coffee3_price = 3000\n",
        "menu = f'''[커피 자동주문 머신 메뉴]\n",
        "------------------------\n",
        "- 아메리카노:  {coffee1_price}원\n",
        "- 카페라떼:    {coffee2_price}원\n",
        "- 카푸치노:    {coffee3_price}원\n",
        "------------------------\n",
        "원하시는 커피종류와 잔수를 입력하세요!\n",
        "'''\n",
        "print(menu)\n",
        "coffee1 = int(input('아메리카노 몇 잔: '))\n",
        "coffee2 = int(input('카페라떼   몇 잔: '))\n",
        "coffee3 = int(input('카푸치노   몇 잔: '))\n",
        "total = coffee1_price * coffee1 + coffee2_price * coffee2 + coffee3_price * coffee3\n",
        "print(f'주문하신 총 가격은 {total}원 입니다.')\n",
        "\n",
        "while True:\n",
        "    money = int(input('돈을 입력해주세요: '))\n",
        "    change = total - money\n",
        "    total = change\n",
        "    if change > 0:\n",
        "        print(f'입력한 금액이 부족합니다.{change}원을 더 넣어주세요.')\n",
        "    else:\n",
        "        print(f'거스름돈은 {abs(change)}원 입니다. 커피 맛있게 드세요~')\n",
        "        break"
      ],
      "metadata": {
        "colab": {
          "base_uri": "https://localhost:8080/"
        },
        "id": "bzB9_qYkNpnI",
        "outputId": "4f334f71-2841-4374-e657-30e66a5a089f"
      },
      "execution_count": 113,
      "outputs": [
        {
          "output_type": "stream",
          "name": "stdout",
          "text": [
            "[커피 자동주문 머신 메뉴]\n",
            "------------------------\n",
            "- 아메리카노:  2500원\n",
            "- 카페라떼:    3000원\n",
            "- 카푸치노:    3000원\n",
            "------------------------\n",
            "원하시는 커피종류와 잔수를 입력하세요!\n",
            "\n",
            "아메리카노 몇 잔: 2\n",
            "카페라떼   몇 잔: 3\n",
            "카푸치노   몇 잔: 4\n",
            "주문하신 총 가격은 26000원 입니다.\n",
            "돈을 입력해주세요: 12000\n",
            "입력한 금액이 부족합니다.14000원을 더 넣어주세요.\n",
            "돈을 입력해주세요: 2000\n",
            "입력한 금액이 부족합니다.12000원을 더 넣어주세요.\n",
            "돈을 입력해주세요: 20000\n",
            "거스름돈은 8000원 입니다. 커피 맛있게 드세요~\n"
          ]
        }
      ]
    }
  ]
}